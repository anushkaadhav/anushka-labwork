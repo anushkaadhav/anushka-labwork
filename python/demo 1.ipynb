{
 "cells": [
  {
   "cell_type": "code",
   "execution_count": 1,
   "metadata": {},
   "outputs": [
    {
     "name": "stdout",
     "output_type": "stream",
     "text": [
      "enter number:9\n",
      "fibbonacci series:\n",
      "01123581321"
     ]
    }
   ],
   "source": [
    "n=int(input(\"enter number:\"))\n",
    "a,b=0,1\n",
    "print(\"fibbonacci series:\")\n",
    "for i in range(n):\n",
    "    print(a,end='')\n",
    "    a,b=b,a+b"
   ]
  },
  {
   "cell_type": "code",
   "execution_count": 2,
   "metadata": {},
   "outputs": [
    {
     "name": "stdout",
     "output_type": "stream",
     "text": [
      "average of number of list: 30.0\n"
     ]
    }
   ],
   "source": [
    " numlist=[10,20,30,40,50]\n",
    "total=0\n",
    "count=0\n",
    "i=0\n",
    "\n",
    "while i<len(numlist):\n",
    "    total=total+numlist[i]\n",
    "    count=count+1\n",
    "    i=i+1\n",
    "average=total/count\n",
    "print(\"average of number of list:\",average)\n"
   ]
  },
  {
   "cell_type": "code",
   "execution_count": 5,
   "metadata": {},
   "outputs": [
    {
     "name": "stdout",
     "output_type": "stream",
     "text": [
      "enter 6 integer number:\n",
      "enter integer value1:12\n",
      "enter integer value2:23\n",
      "enter integer value3:34\n",
      "enter integer value4:45\n",
      "enter integer value5:23\n",
      "enter integer value6:45\n",
      "duplicate\n"
     ]
    }
   ],
   "source": [
    "values=[]\n",
    "print(\"enter 6 integer number:\")\n",
    "for i in range(6):\n",
    "    num=int(input(f\"enter integer value{i+1}:\"))\n",
    "    values.append(num)\n",
    "is_duplicate=False\n",
    "for i in values:\n",
    "    count=0;\n",
    "    for j in values:\n",
    "        if(i==j):\n",
    "            count=count+1;\n",
    "    if count>1:\n",
    "        is_duplicate=True\n",
    "        break\n",
    "if is_duplicate:\n",
    "    print(\"duplicate\")\n",
    "else:\n",
    "    print(\"unique\")\n",
    "        "
   ]
  },
  {
   "cell_type": "code",
   "execution_count": null,
   "metadata": {},
   "outputs": [],
   "source": [
    "\n",
    "for i in range(6):\n",
    "    num=int(input(f\"enter integer value{i+1}:\"))\n",
    "    if num%2==0:\n",
    "        print(\"number is even\",num)\n",
    "    else:\n",
    "        print(\"number is odd\",num)"
   ]
  },
  {
   "cell_type": "code",
   "execution_count": null,
   "metadata": {},
   "outputs": [],
   "source": [
    "numlist=[10,20,30,40,50]\n",
    "total=0\n",
    "count=0\n",
    "\n",
    "for number in numlist:\n",
    "    total=total+number\n",
    "    count=count+1\n",
    "    i=i+1\n",
    "average=total/count\n",
    "print(\"average of number of list:\",average)\n"
   ]
  },
  {
   "cell_type": "code",
   "execution_count": null,
   "metadata": {},
   "outputs": [],
   "source": [
    "\n",
    "\n",
    "print(\"hello\")"
   ]
  },
  {
   "cell_type": "code",
   "execution_count": null,
   "metadata": {},
   "outputs": [],
   "source": [
    "\n"
   ]
  }
 ],
 "metadata": {
  "kernelspec": {
   "display_name": "Python 3",
   "language": "python",
   "name": "python3"
  },
  "language_info": {
   "codemirror_mode": {
    "name": "ipython",
    "version": 3
   },
   "file_extension": ".py",
   "mimetype": "text/x-python",
   "name": "python",
   "nbconvert_exporter": "python",
   "pygments_lexer": "ipython3",
   "version": "3.8.10"
  }
 },
 "nbformat": 4,
 "nbformat_minor": 4
}
