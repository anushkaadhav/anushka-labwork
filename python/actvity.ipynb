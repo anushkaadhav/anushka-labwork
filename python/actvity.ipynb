{
 "cells": [
  {
   "cell_type": "code",
   "execution_count": 1,
   "metadata": {},
   "outputs": [
    {
     "name": "stdout",
     "output_type": "stream",
     "text": [
      "Enter a String 1: anushka\n",
      "Your String 1: anushka\n",
      "Enter a String 2: tanuja\n",
      "Your String 2: tanuja\n",
      "Result String: tnushkt aanuja\n"
     ]
    }
   ],
   "source": [
    "mystring1 = input(\"Enter a String 1: \")\n",
    "print(\"Your String 1:\", mystring1)\n",
    "\n",
    "mystring2 = input(\"Enter a String 2: \")\n",
    "print(\"Your String 2:\", mystring2)\n",
    "\n",
    "result = mystring1.replace(mystring1[0:1],mystring2[0:1]) + \" \" + mystring2.replace(mystring2[0:1],mystring1[0:1]) \n",
    "\n",
    "print(f\"Result String: {result}\")"
   ]
  },
  {
   "cell_type": "code",
   "execution_count": 2,
   "metadata": {},
   "outputs": [
    {
     "name": "stdout",
     "output_type": "stream",
     "text": [
      "Enter a String: anushka\n",
      "Your String: anushka\n",
      "Result: Digits: 0, Letters: 7\n"
     ]
    }
   ],
   "source": [
    "mystring = input(\"Enter a String: \")\n",
    "print(\"Your String:\", mystring)\n",
    "\n",
    "Digits = 0\n",
    "Letters = 0\n",
    "\n",
    "for x in mystring:\n",
    "    if x.isalpha():\n",
    "        Letters += 1\n",
    "    \n",
    "    if x.isdigit():\n",
    "        Digits += 1\n",
    "        \n",
    "print(f\"Result: Digits: {Digits}, Letters: {Letters}\")"
   ]
  },
  {
   "cell_type": "code",
   "execution_count": 3,
   "metadata": {},
   "outputs": [
    {
     "name": "stdout",
     "output_type": "stream",
     "text": [
      "Enter a String: dhanshri\n",
      "Your String: dhanshri\n",
      "Converted String: dasr\n"
     ]
    }
   ],
   "source": [
    "mystring = str(input(\"Enter a String: \"))\n",
    "print(\"Your String:\", mystring)\n",
    "\n",
    "newstr = \"\"\n",
    "\n",
    "for i in range(len(mystring)):\n",
    "    if(i % 2 == 0):\n",
    "        newstr += mystring[i]\n",
    "\n",
    "print(f\"Converted String: {newstr}\")"
   ]
  },
  {
   "cell_type": "code",
   "execution_count": 4,
   "metadata": {},
   "outputs": [
    {
     "name": "stdout",
     "output_type": "stream",
     "text": [
      "Enter a String: datta\n",
      "Your String: datta\n",
      "Frequency of each word: {'datta': 1}\n"
     ]
    }
   ],
   "source": [
    "mystring = str(input(\"Enter a String: \"))\n",
    "print(\"Your String:\", mystring)\n",
    "\n",
    "frequency = {}\n",
    "\n",
    "for x in mystring.split():\n",
    "    if x in frequency:\n",
    "        frequency[x] += 1\n",
    "    else:\n",
    "        frequency[x] = 1\n",
    "\n",
    "print(f\"Frequency of each word: {frequency}\")"
   ]
  },
  {
   "cell_type": "code",
   "execution_count": 5,
   "metadata": {},
   "outputs": [
    {
     "name": "stdout",
     "output_type": "stream",
     "text": [
      "Enter a String: anurag\n",
      "Your String: anurag\n",
      "Converted String: anurag\n"
     ]
    }
   ],
   "source": [
    "mystring = str(input(\"Enter a String: \"))\n",
    "print(\"Your String:\", mystring)\n",
    "\n",
    "newstr = \"\"\n",
    "\n",
    "for word in mystring:\n",
    "    if word.isalnum() or word.isspace():\n",
    "        newstr += word\n",
    "\n",
    "print(f\"Converted String: {newstr}\")"
   ]
  },
  {
   "cell_type": "code",
   "execution_count": 6,
   "metadata": {},
   "outputs": [
    {
     "name": "stdout",
     "output_type": "stream",
     "text": [
      "Enter a String: @*tanujaa#\n",
      "Your String: @*tanujaa#\n",
      "Converted String: tanujaa\n"
     ]
    }
   ],
   "source": [
    "mystring = str(input(\"Enter a String: \"))\n",
    "print(\"Your String:\", mystring)\n",
    "\n",
    "newstr = \"\"\n",
    "\n",
    "for word in mystring:\n",
    "    if word.isalnum() or word.isspace():\n",
    "        newstr += word\n",
    "\n",
    "print(f\"Converted String: {newstr}\")"
   ]
  },
  {
   "cell_type": "code",
   "execution_count": 7,
   "metadata": {},
   "outputs": [
    {
     "ename": "NameError",
     "evalue": "name 'anushkase2204' is not defined",
     "output_type": "error",
     "traceback": [
      "\u001b[0;31m---------------------------------------------------------------------------\u001b[0m",
      "\u001b[0;31mNameError\u001b[0m                                 Traceback (most recent call last)",
      "\u001b[0;32m<ipython-input-7-9a912fba2bce>\u001b[0m in \u001b[0;36m<module>\u001b[0;34m\u001b[0m\n\u001b[0;32m----> 1\u001b[0;31m \u001b[0mmystring\u001b[0m\u001b[0;34m=\u001b[0m\u001b[0manushkase2204\u001b[0m\u001b[0;34m\u001b[0m\u001b[0;34m\u001b[0m\u001b[0m\n\u001b[0m\u001b[1;32m      2\u001b[0m \u001b[0mCapitalize\u001b[0m\u001b[0;34m(\u001b[0m\u001b[0mmystring\u001b[0m\u001b[0;34m)\u001b[0m\u001b[0;34m\u001b[0m\u001b[0;34m\u001b[0m\u001b[0m\n",
      "\u001b[0;31mNameError\u001b[0m: name 'anushkase2204' is not defined"
     ]
    }
   ],
   "source": [
    "mystring=anushkase2204\n",
    "Capitalize(mystring)\n"
   ]
  },
  {
   "cell_type": "code",
   "execution_count": 8,
   "metadata": {},
   "outputs": [
    {
     "ename": "NameError",
     "evalue": "name 'Capitalize' is not defined",
     "output_type": "error",
     "traceback": [
      "\u001b[0;31m---------------------------------------------------------------------------\u001b[0m",
      "\u001b[0;31mNameError\u001b[0m                                 Traceback (most recent call last)",
      "\u001b[0;32m<ipython-input-8-dc6f6319d225>\u001b[0m in \u001b[0;36m<module>\u001b[0;34m\u001b[0m\n\u001b[0;32m----> 1\u001b[0;31m \u001b[0mCapitalize\u001b[0m\u001b[0;34m(\u001b[0m\u001b[0manushka2004\u001b[0m\u001b[0;34m)\u001b[0m\u001b[0;34m\u001b[0m\u001b[0;34m\u001b[0m\u001b[0m\n\u001b[0m",
      "\u001b[0;31mNameError\u001b[0m: name 'Capitalize' is not defined"
     ]
    }
   ],
   "source": [
    "Capitalize(anushka2004)"
   ]
  },
  {
   "cell_type": "code",
   "execution_count": 11,
   "metadata": {},
   "outputs": [
    {
     "ename": "NameError",
     "evalue": "name 'capitalize' is not defined",
     "output_type": "error",
     "traceback": [
      "\u001b[0;31m---------------------------------------------------------------------------\u001b[0m",
      "\u001b[0;31mNameError\u001b[0m                                 Traceback (most recent call last)",
      "\u001b[0;32m<ipython-input-11-d88e82177bda>\u001b[0m in \u001b[0;36m<module>\u001b[0;34m\u001b[0m\n\u001b[1;32m      1\u001b[0m \u001b[0mstring\u001b[0m\u001b[0;34m=\u001b[0m\u001b[0;34m\"anushkajadhav\"\u001b[0m\u001b[0;34m\u001b[0m\u001b[0;34m\u001b[0m\u001b[0m\n\u001b[0;32m----> 2\u001b[0;31m \u001b[0mcapitalize\u001b[0m\u001b[0;34m(\u001b[0m\u001b[0mstring\u001b[0m\u001b[0;34m)\u001b[0m\u001b[0;34m\u001b[0m\u001b[0;34m\u001b[0m\u001b[0m\n\u001b[0m",
      "\u001b[0;31mNameError\u001b[0m: name 'capitalize' is not defined"
     ]
    }
   ],
   "source": [
    "string=\"anushkajadhav\"\n",
    "capitalize(string)"
   ]
  },
  {
   "cell_type": "code",
   "execution_count": 13,
   "metadata": {},
   "outputs": [
    {
     "ename": "NameError",
     "evalue": "name 'Capitalize' is not defined",
     "output_type": "error",
     "traceback": [
      "\u001b[0;31m---------------------------------------------------------------------------\u001b[0m",
      "\u001b[0;31mNameError\u001b[0m                                 Traceback (most recent call last)",
      "\u001b[0;32m<ipython-input-13-7fb412e067b7>\u001b[0m in \u001b[0;36m<module>\u001b[0;34m\u001b[0m\n\u001b[1;32m      1\u001b[0m \u001b[0mstring\u001b[0m\u001b[0;34m=\u001b[0m\u001b[0;34m\"anushkaadhav\"\u001b[0m\u001b[0;34m\u001b[0m\u001b[0;34m\u001b[0m\u001b[0m\n\u001b[0;32m----> 2\u001b[0;31m \u001b[0mprint\u001b[0m\u001b[0;34m(\u001b[0m\u001b[0mCapitalize\u001b[0m\u001b[0;34m(\u001b[0m\u001b[0mstring\u001b[0m\u001b[0;34m)\u001b[0m\u001b[0;34m)\u001b[0m\u001b[0;34m\u001b[0m\u001b[0;34m\u001b[0m\u001b[0m\n\u001b[0m",
      "\u001b[0;31mNameError\u001b[0m: name 'Capitalize' is not defined"
     ]
    }
   ],
   "source": [
    "string=\"anushkaadhav\"\n",
    "print(Capitalize(string))"
   ]
  },
  {
   "cell_type": "code",
   "execution_count": 14,
   "metadata": {},
   "outputs": [
    {
     "name": "stdout",
     "output_type": "stream",
     "text": [
      "Anushka adhav\n"
     ]
    }
   ],
   "source": [
    "text = \"anushka adhav\"\n",
    "capitalized_text = text.capitalize()\n",
    "print(capitalized_text)"
   ]
  },
  {
   "cell_type": "code",
   "execution_count": 16,
   "metadata": {},
   "outputs": [
    {
     "name": "stdout",
     "output_type": "stream",
     "text": [
      "0\n",
      "1\n"
     ]
    }
   ],
   "source": [
    "text = \"Anushka adhav,adhav anushka\"\n",
    "substring = \"anushka\"\n",
    "count_result = text.count(substring, 0, 20)\n",
    "print(count_result) \n",
    "count_result2 = text.count(substring, 7, len(text))\n",
    "print(count_result2)  \n"
   ]
  },
  {
   "cell_type": "code",
   "execution_count": 17,
   "metadata": {},
   "outputs": [
    {
     "name": "stdout",
     "output_type": "stream",
     "text": [
      "True\n",
      "False\n",
      "False\n"
     ]
    }
   ],
   "source": [
    "text = \"Anushka ,Adhav!\"\n",
    "result1 = text.endswith('Adhav!')\n",
    "print(result1) \n",
    "result2 = text.endswith('Adhav!', 0, 10)\n",
    "print(result2)\n",
    "result3 = text.endswith('Anushka', 0, 5)\n",
    "print(result3)"
   ]
  },
  {
   "cell_type": "code",
   "execution_count": 18,
   "metadata": {},
   "outputs": [
    {
     "name": "stdout",
     "output_type": "stream",
     "text": [
      "True\n",
      "False\n"
     ]
    }
   ],
   "source": [
    "text1 = \"Anushkase2204\"\n",
    "result1 = text1.isalnum()\n",
    "print(result1) \n",
    "text2 = \"Anushka 2004\"\n",
    "result2 = text2.isalnum()\n",
    "print(result2)  \n"
   ]
  },
  {
   "cell_type": "code",
   "execution_count": 20,
   "metadata": {},
   "outputs": [
    {
     "name": "stdout",
     "output_type": "stream",
     "text": [
      "True\n",
      "False\n"
     ]
    }
   ],
   "source": [
    "text1 = \"Anushka\"\n",
    "result1 = text1.isalpha()\n",
    "print(result1) \n",
    "text2 = \"Anushka 2004\"\n",
    "result2 = text2.isalpha()\n",
    "print(result2)  \n"
   ]
  },
  {
   "cell_type": "code",
   "execution_count": 21,
   "metadata": {},
   "outputs": [
    {
     "name": "stdout",
     "output_type": "stream",
     "text": [
      "True\n",
      "False\n"
     ]
    }
   ],
   "source": [
    "text1 = \"2004\"\n",
    "result1 = text1.isdigit()\n",
    "print(result1) \n",
    "text2 = \"Anushka2004\"\n",
    "result2 = text2.isdigit()\n",
    "print(result2)  \n"
   ]
  },
  {
   "cell_type": "code",
   "execution_count": 22,
   "metadata": {},
   "outputs": [
    {
     "name": "stdout",
     "output_type": "stream",
     "text": [
      "True\n",
      "False\n"
     ]
    }
   ],
   "source": [
    "text1 = \"anushka\"\n",
    "result1 = text1.islower()\n",
    "print(result1) \n",
    "text2 = \"Anushka\"\n",
    "result2 = text2.islower()\n",
    "print(result2)  \n"
   ]
  },
  {
   "cell_type": "code",
   "execution_count": 24,
   "metadata": {},
   "outputs": [
    {
     "name": "stdout",
     "output_type": "stream",
     "text": [
      "True\n",
      "False\n"
     ]
    }
   ],
   "source": [
    "text1 = \" \"\n",
    "result1 = text1.isspace()\n",
    "print(result1) \n",
    "text2 = \"Anushka2004\"\n",
    "result2 = text2.isspace()\n",
    "print(result2)  \n"
   ]
  },
  {
   "cell_type": "code",
   "execution_count": 27,
   "metadata": {},
   "outputs": [
    {
     "name": "stdout",
     "output_type": "stream",
     "text": [
      "True\n",
      "False\n"
     ]
    }
   ],
   "source": [
    "text1 = \"Anushka Adhav\"\n",
    "result1 = text1.istitle()\n",
    "print(result1) \n",
    "text2 = \"anushka adhav\"\n",
    "result2 = text2.istitle()\n",
    "print(result2)  \n"
   ]
  },
  {
   "cell_type": "code",
   "execution_count": 66,
   "metadata": {},
   "outputs": [
    {
     "name": "stdout",
     "output_type": "stream",
     "text": [
      "True\n",
      "False\n"
     ]
    }
   ],
   "source": [
    "text1 = \"2004\"\n",
    "result1 = text1.isdecimal()\n",
    "print(result1) \n",
    "text2 = \"anushka\"\n",
    "result2 = text2.isdecimal()\n",
    "print(result2)  \n"
   ]
  },
  {
   "cell_type": "code",
   "execution_count": 33,
   "metadata": {},
   "outputs": [
    {
     "name": "stdout",
     "output_type": "stream",
     "text": [
      "3\n"
     ]
    }
   ],
   "source": [
    "string1= [\"Anushka\",\"Dashrath\",\"Adhav\"]\n",
    "result1 = len(string1)\n",
    "print(result1) \n"
   ]
  },
  {
   "cell_type": "code",
   "execution_count": 48,
   "metadata": {},
   "outputs": [
    {
     "name": "stdout",
     "output_type": "stream",
     "text": [
      "*******Anushkase2204\n"
     ]
    }
   ],
   "source": [
    "text1 = \"Anushkase2204\"\n",
    "result1 = text1.rjust(20,'*')\n",
    "print(result1)\n"
   ]
  },
  {
   "cell_type": "code",
   "execution_count": 40,
   "metadata": {},
   "outputs": [
    {
     "name": "stdout",
     "output_type": "stream",
     "text": [
      "anushkadashrathadhavse2004\n"
     ]
    }
   ],
   "source": [
    "string1= [\"Anushka\",\"Dashrath\",\"Adhav\"]\n",
    "result1 = len(string1)\n",
    "print(result1) \n"
   ]
  },
  {
   "cell_type": "code",
   "execution_count": 51,
   "metadata": {},
   "outputs": [
    {
     "name": "stdout",
     "output_type": "stream",
     "text": [
      "Anushka Adhav  u\n"
     ]
    }
   ],
   "source": [
    "text1 = \"Anushka Adhav  u\"\n",
    "result1 = text1.rstrip()\n",
    "print(result1)\n"
   ]
  },
  {
   "cell_type": "code",
   "execution_count": 42,
   "metadata": {},
   "outputs": [
    {
     "name": "stdout",
     "output_type": "stream",
     "text": [
      "AnushkA AdhAv\n"
     ]
    }
   ],
   "source": [
    "original_string = \"anushka adhav\"\n",
    "translation_table = str.maketrans(\"aa\", \"AA\")\n",
    "translated_string = original_string.translate(translation_table)\n",
    "print(translated_string) "
   ]
  },
  {
   "cell_type": "code",
   "execution_count": 45,
   "metadata": {},
   "outputs": [
    {
     "name": "stdout",
     "output_type": "stream",
     "text": [
      "A\n"
     ]
    }
   ],
   "source": [
    "string1=\"AnushkaDashrathAdhav\"\n",
    "result1 =min(string1)\n",
    "print(result1) "
   ]
  },
  {
   "cell_type": "code",
   "execution_count": 46,
   "metadata": {},
   "outputs": [
    {
     "name": "stdout",
     "output_type": "stream",
     "text": [
      "Anushka Dashrath Raut\n"
     ]
    }
   ],
   "source": [
    "text1 = \"Anushka Dashrath Adhav\"\n",
    "result1 = text1.replace(\"Adhav\", \"Raut\")\n",
    "print(result1) \n"
   ]
  },
  {
   "cell_type": "code",
   "execution_count": 47,
   "metadata": {},
   "outputs": [
    {
     "name": "stdout",
     "output_type": "stream",
     "text": [
      "17\n"
     ]
    }
   ],
   "source": [
    "text1 =\"Anushka Dashrath adhav\"\n",
    "result3 = text1.rfind(\"adh\")\n",
    "print(result3)"
   ]
  },
  {
   "cell_type": "code",
   "execution_count": 56,
   "metadata": {},
   "outputs": [
    {
     "name": "stdout",
     "output_type": "stream",
     "text": [
      "['AnushkaDashrath', 'Adhav', 'se2204']\n"
     ]
    }
   ],
   "source": [
    "text2 = \"AnushkaDashrath\\nAdhav\\nse2204\"\n",
    "result2 = text2.splitlines()\n",
    "print(result2) \n"
   ]
  },
  {
   "cell_type": "code",
   "execution_count": 71,
   "metadata": {},
   "outputs": [
    {
     "name": "stdout",
     "output_type": "stream",
     "text": [
      "000anushka\n"
     ]
    }
   ],
   "source": [
    "text1 = \"anushka\"\n",
    "result1 = text1.zfill(10)\n",
    "print(result1) "
   ]
  },
  {
   "cell_type": "code",
   "execution_count": 64,
   "metadata": {},
   "outputs": [
    {
     "name": "stdout",
     "output_type": "stream",
     "text": [
      "1n5shk1 d1shr1th 1dh1v\n"
     ]
    }
   ],
   "source": [
    "text3 = \"anushka dashrath adhav\"\n",
    "translation_table = str.maketrans(\"aeiou\", \"12345\") \n",
    "result3 = text3.translate(translation_table) \n",
    "print(result3) \n"
   ]
  },
  {
   "cell_type": "code",
   "execution_count": null,
   "metadata": {},
   "outputs": [],
   "source": []
  }
 ],
 "metadata": {
  "kernelspec": {
   "display_name": "Python 3",
   "language": "python",
   "name": "python3"
  },
  "language_info": {
   "codemirror_mode": {
    "name": "ipython",
    "version": 3
   },
   "file_extension": ".py",
   "mimetype": "text/x-python",
   "name": "python",
   "nbconvert_exporter": "python",
   "pygments_lexer": "ipython3",
   "version": "3.8.10"
  }
 },
 "nbformat": 4,
 "nbformat_minor": 4
}
