{
 "cells": [
  {
   "cell_type": "code",
   "execution_count": 9,
   "metadata": {},
   "outputs": [
    {
     "name": "stdout",
     "output_type": "stream",
     "text": [
      "(50, 40, 30, 20, 10)\n"
     ]
    }
   ],
   "source": [
    "aTup=(10,20,30,40,50)\n",
    "print(aTup[ ::-1])"
   ]
  },
  {
   "cell_type": "code",
   "execution_count": 10,
   "metadata": {},
   "outputs": [
    {
     "name": "stdout",
     "output_type": "stream",
     "text": [
      "[(1, 1), (2, 4), (3, 9), (4, 16), (5, 25)]\n"
     ]
    }
   ],
   "source": [
    "no=(1,2,3,4,5)\n",
    "con_n=[(n,n**2)for n in no]\n",
    "print(con_n)"
   ]
  },
  {
   "cell_type": "code",
   "execution_count": 11,
   "metadata": {},
   "outputs": [
    {
     "name": "stdout",
     "output_type": "stream",
     "text": [
      "3\n"
     ]
    }
   ],
   "source": [
    "t1=(1,2,3,4,5)\n",
    "print(t1[2])"
   ]
  },
  {
   "cell_type": "code",
   "execution_count": 14,
   "metadata": {},
   "outputs": [
    {
     "name": "stdout",
     "output_type": "stream",
     "text": [
      "1 2 3 4\n"
     ]
    }
   ],
   "source": [
    "t1=(1,2,3,4)\n",
    "(a,b,c,d)=t1\n",
    "print(a,b,c,d)"
   ]
  },
  {
   "cell_type": "code",
   "execution_count": 15,
   "metadata": {},
   "outputs": [
    {
     "name": "stdout",
     "output_type": "stream",
     "text": [
      "(1, 2, 3, 4, 5)\n"
     ]
    }
   ],
   "source": [
    "T1=(1,2,3,4)\n",
    "new_T1=T1+(5,)\n",
    "print(new_T1)"
   ]
  },
  {
   "cell_type": "code",
   "execution_count": 16,
   "metadata": {},
   "outputs": [
    {
     "name": "stdout",
     "output_type": "stream",
     "text": [
      "(44, 55)\n"
     ]
    }
   ],
   "source": [
    "tuple1=(11,22,33,44,55,66)\n",
    "new_tuple1=tuple1[3:5]\n",
    "print(new_tuple1)"
   ]
  },
  {
   "cell_type": "code",
   "execution_count": 29,
   "metadata": {},
   "outputs": [
    {
     "name": "stdout",
     "output_type": "stream",
     "text": [
      "not present\n",
      "not present\n",
      "not present\n",
      "present\n",
      "present\n",
      "not present\n",
      "(44, 55, 44, 66, 44, 66, 44, 55)\n"
     ]
    }
   ],
   "source": [
    "tuple1=(11,22,33,44,55,66)\n",
    "for i in tuple1:\n",
    "    if i==44 or i==55:\n",
    "        print(\"present\")\n",
    "        new_tuple1+=(i,)\n",
    "    \n",
    "    else:\n",
    "        print(\"not present\")\n",
    "print(new_tuple1)"
   ]
  },
  {
   "cell_type": "code",
   "execution_count": 31,
   "metadata": {},
   "outputs": [
    {
     "name": "stdout",
     "output_type": "stream",
     "text": [
      "H e l l o\n"
     ]
    }
   ],
   "source": [
    "t1=('H','e','l','l','o')\n",
    "string_t1= ' '.join(t1)\n",
    "print(string_t1)\n"
   ]
  },
  {
   "cell_type": "code",
   "execution_count": 32,
   "metadata": {},
   "outputs": [
    {
     "name": "stdout",
     "output_type": "stream",
     "text": [
      "Your Tuple: ('Hello', 'Class', 'SYBCA')\n",
      "The converted string is: Hello Class SYBCA\n"
     ]
    }
   ],
   "source": [
    "tuple1 = ('Hello', 'Class', 'SYBCA')\n",
    "print(\"Your Tuple:\", tuple1)\n",
    "\n",
    "mystr  = ' '.join(tuple1)\n",
    "\n",
    "print(\"The converted string is:\", mystr)"
   ]
  },
  {
   "cell_type": "code",
   "execution_count": 33,
   "metadata": {},
   "outputs": [
    {
     "name": "stdout",
     "output_type": "stream",
     "text": [
      "(1, 2, 2.7, 4, 4, 5, 7.8)\n"
     ]
    }
   ],
   "source": [
    "T1=(2,4,5,1,4,7.8,2.7)\n",
    "sort_T1=tuple(sorted(T1))\n",
    "print(sort_T1)"
   ]
  },
  {
   "cell_type": "code",
   "execution_count": 35,
   "metadata": {},
   "outputs": [
    {
     "name": "stdout",
     "output_type": "stream",
     "text": [
      "50\n",
      "70\n"
     ]
    }
   ],
   "source": [
    "T1=(10,20,30,40,50,60,70,80,90,100,110)\n",
    "print(T1[4])\n",
    "print(T1[-5])"
   ]
  },
  {
   "cell_type": "code",
   "execution_count": 36,
   "metadata": {},
   "outputs": [
    {
     "name": "stdout",
     "output_type": "stream",
     "text": [
      "Your tuple: (1, 2, 3, 4, 5, 6, 7, 8, 9, 10)\n",
      "5th from front: 5, 5th from last: 6.\n"
     ]
    }
   ],
   "source": [
    "tuple1 = (1, 2, 3, 4, 5, 6, 7, 8, 9, 10)\n",
    "print(\"Your tuple:\",tuple1)\n",
    "\n",
    "print(f\"5th from front: {tuple1[4]}, 5th from last: {tuple1[-5]}.\")"
   ]
  },
  {
   "cell_type": "code",
   "execution_count": 37,
   "metadata": {},
   "outputs": [
    {
     "name": "stdout",
     "output_type": "stream",
     "text": [
      "[10]\n"
     ]
    }
   ],
   "source": [
    "T1=(10,20,30,40,10)\n",
    "mylist=[]\n",
    "for x in T1:\n",
    "    if T1.count(x)>1:\n",
    "        if x not in mylist:\n",
    "            mylist.append(x)\n",
    "print(mylist)"
   ]
  },
  {
   "cell_type": "code",
   "execution_count": 48,
   "metadata": {},
   "outputs": [
    {
     "name": "stdout",
     "output_type": "stream",
     "text": [
      "not exit\n",
      "exit\n",
      "not exit\n",
      "not exit\n"
     ]
    }
   ],
   "source": [
    "T1=(10,20,30,50)\n",
    "no=20\n",
    "for i in T1:\n",
    "    if i==no:\n",
    "        print(\"exit\")\n",
    "    else:\n",
    "        print(\"not exit\")\n"
   ]
  },
  {
   "cell_type": "code",
   "execution_count": 40,
   "metadata": {},
   "outputs": [
    {
     "name": "stdout",
     "output_type": "stream",
     "text": [
      "Your tuple: (1, 2, 3, 4, 5, 5, 7, 1, 9, 2)\n",
      "Enter the element to be searched: 7\n",
      "Item 7 is present in the tuple.\n"
     ]
    }
   ],
   "source": [
    "tuple1 = (1, 2, 3, 4, 5, 5, 7, 1, 9, 2)\n",
    "print(\"Your tuple:\",tuple1)\n",
    "\n",
    "key = int(input(\"Enter the element to be searched: \"))\n",
    "\n",
    "if key in tuple1:\n",
    "    print(f\"Item {key} is present in the tuple.\")\n",
    "else:\n",
    "    print(f\"Item {key} is NOT present in the tuple.\")"
   ]
  },
  {
   "cell_type": "code",
   "execution_count": 49,
   "metadata": {},
   "outputs": [
    {
     "name": "stdout",
     "output_type": "stream",
     "text": [
      "{1, 2, 3, 4}\n"
     ]
    }
   ],
   "source": [
    "sets={1,2,3,4,4}\n",
    "print(sets)"
   ]
  },
  {
   "cell_type": "code",
   "execution_count": 51,
   "metadata": {},
   "outputs": [
    {
     "name": "stdout",
     "output_type": "stream",
     "text": [
      "set is empty\n"
     ]
    }
   ],
   "source": [
    "s={1,34,456}\n",
    "if s:\n",
    "    print(s.pop())\n",
    "else:\n",
    "    print(\"set is empty\")"
   ]
  },
  {
   "cell_type": "code",
   "execution_count": 53,
   "metadata": {},
   "outputs": [
    {
     "name": "stdout",
     "output_type": "stream",
     "text": [
      "0\n",
      "1\n",
      "2\n",
      "3\n",
      "4\n",
      "5\n",
      "6\n",
      "7\n"
     ]
    }
   ],
   "source": [
    "s={0,1,2,3,4,5,6,7}\n",
    "for no in s:\n",
    "    print(no)\n",
    "    "
   ]
  },
  {
   "cell_type": "code",
   "execution_count": 55,
   "metadata": {},
   "outputs": [
    {
     "name": "stdout",
     "output_type": "stream",
     "text": [
      "{10, 20, 30}\n",
      "{10, 30}\n"
     ]
    }
   ],
   "source": [
    "sample_set=set()\n",
    "sample_set.add(10)\n",
    "sample_set.add(20)\n",
    "sample_set.add(30)\n",
    "print(sample_set)\n",
    "sample_set.remove(20)\n",
    "print(sample_set)"
   ]
  },
  {
   "cell_type": "code",
   "execution_count": 56,
   "metadata": {},
   "outputs": [
    {
     "name": "stdout",
     "output_type": "stream",
     "text": [
      "enter string:ppl\n",
      "vowels are not present\n"
     ]
    }
   ],
   "source": [
    "s1=input(\"enter string:\")\n",
    "v_list={'a','e','i','o','u'}\n",
    "if v_list.issubset(set(s1)):\n",
    "    print(\"string is vowels\")\n",
    "else:\n",
    "    print(\"vowels are not present\")"
   ]
  },
  {
   "cell_type": "code",
   "execution_count": 57,
   "metadata": {},
   "outputs": [
    {
     "name": "stdout",
     "output_type": "stream",
     "text": [
      "{1, 2, 3, 4, 5, 6, 7, 8}\n"
     ]
    }
   ],
   "source": [
    "A={1,2,3,4,5}\n",
    "B={4,5,6,7,8}\n",
    "print(A.union(B))"
   ]
  },
  {
   "cell_type": "code",
   "execution_count": 58,
   "metadata": {},
   "outputs": [
    {
     "name": "stdout",
     "output_type": "stream",
     "text": [
      "{4, 5}\n"
     ]
    }
   ],
   "source": [
    "A={1,2,3,4,5}\n",
    "B={4,5,6,7,8}\n",
    "print(A.intersection(B))"
   ]
  },
  {
   "cell_type": "code",
   "execution_count": 59,
   "metadata": {},
   "outputs": [
    {
     "name": "stdout",
     "output_type": "stream",
     "text": [
      "{1, 2, 3, 4, 5, 6, 7, 8}\n"
     ]
    }
   ],
   "source": [
    "\n",
    "A={1,2,3,4,5}\n",
    "B={4,5,6,7,8}\n",
    "print(A.union(B))\n",
    "\n"
   ]
  },
  {
   "cell_type": "code",
   "execution_count": 60,
   "metadata": {},
   "outputs": [
    {
     "name": "stdout",
     "output_type": "stream",
     "text": [
      "456\n",
      "2\n"
     ]
    }
   ],
   "source": [
    "set={10,4,456,78,2,123}\n",
    "print(max(set))\n",
    "print(min(set))"
   ]
  },
  {
   "cell_type": "code",
   "execution_count": 62,
   "metadata": {},
   "outputs": [
    {
     "name": "stdout",
     "output_type": "stream",
     "text": [
      "{1, 2, 3}\n",
      "{8, 6, 7}\n",
      "{1, 2, 3, 6, 7, 8}\n"
     ]
    }
   ],
   "source": [
    "A={1,2,3,4,5}\n",
    "B={4,5,6,7,8}\n",
    "print(A.difference(B))\n",
    "print(B.difference(A))\n",
    "print(A.symmetric_difference(B))"
   ]
  },
  {
   "cell_type": "code",
   "execution_count": 63,
   "metadata": {},
   "outputs": [
    {
     "name": "stdout",
     "output_type": "stream",
     "text": [
      "6\n"
     ]
    }
   ],
   "source": [
    "setA={4,45,56,7,23,56}\n",
    "print(len(set))"
   ]
  },
  {
   "cell_type": "code",
   "execution_count": 65,
   "metadata": {},
   "outputs": [
    {
     "name": "stdout",
     "output_type": "stream",
     "text": [
      "{3425, 34, 4, 231, 5436}\n"
     ]
    }
   ],
   "source": [
    "setA={4,5436,231,34,3425}\n",
    "print(setA.copy())"
   ]
  },
  {
   "cell_type": "code",
   "execution_count": 66,
   "metadata": {},
   "outputs": [
    {
     "name": "stdout",
     "output_type": "stream",
     "text": [
      "Your Set1: {1, 2, 3, 4, 5}\n",
      "Your Set2: {3, 4, 5, 6, 7, 8}\n",
      "Set Difference: {1, 2}\n",
      "Set Symmetric Difference: {1, 2, 6, 7, 8}\n",
      "Set Intersection: {3, 4, 5}\n",
      "Set Union: {1, 2, 3, 4, 5, 6, 7, 8}\n",
      "Set Disjoint: False\n",
      "Set Subset: False\n",
      "Set Superset: False\n"
     ]
    }
   ],
   "source": [
    "set1 =  {1, 2, 3, 4, 5}\n",
    "set2 = {3, 4, 5, 6, 7, 8}\n",
    "\n",
    "print(f\"Your Set1: {set1}\")\n",
    "print(f\"Your Set2: {set2}\")\n",
    "\n",
    "\n",
    "print(f\"Set Difference: {set1.difference(set2)}\")\n",
    "print(f\"Set Symmetric Difference: {set1.symmetric_difference(set2)}\")\n",
    "print(f\"Set Intersection: {set1.intersection(set2)}\")\n",
    "print(f\"Set Union: {set1.union(set2)}\")\n",
    "print(f\"Set Disjoint: {set1.isdisjoint(set2)}\")\n",
    "print(f\"Set Subset: {set1.issubset(set2)}\")\n",
    "print(f\"Set Superset: {set1.issuperset(set2)}\")"
   ]
  },
  {
   "cell_type": "code",
   "execution_count": 1,
   "metadata": {},
   "outputs": [
    {
     "name": "stdout",
     "output_type": "stream",
     "text": [
      "[45, 3, 2, 1]\n"
     ]
    }
   ],
   "source": [
    "list=[1,2,3,45]\n",
    "list.reverse()\n",
    "print(list)"
   ]
  },
  {
   "cell_type": "code",
   "execution_count": 3,
   "metadata": {},
   "outputs": [
    {
     "ename": "SyntaxError",
     "evalue": "invalid syntax (<ipython-input-3-54cf53fa90ac>, line 3)",
     "output_type": "error",
     "traceback": [
      "\u001b[0;36m  File \u001b[0;32m\"<ipython-input-3-54cf53fa90ac>\"\u001b[0;36m, line \u001b[0;32m3\u001b[0m\n\u001b[0;31m    unique_list.append(x)for x in list:\u001b[0m\n\u001b[0m                         ^\u001b[0m\n\u001b[0;31mSyntaxError\u001b[0m\u001b[0;31m:\u001b[0m invalid syntax\n"
     ]
    }
   ],
   "source": [
    "list=[1,2,3,4,55,6,4]\n",
    "unique_list=[]\n",
    "unique_list.append(x)for x in list:\n",
    "    if x not in unique_list:\n",
    "        print(unique_list)"
   ]
  },
  {
   "cell_type": "code",
   "execution_count": null,
   "metadata": {},
   "outputs": [],
   "source": []
  }
 ],
 "metadata": {
  "kernelspec": {
   "display_name": "Python 3",
   "language": "python",
   "name": "python3"
  },
  "language_info": {
   "codemirror_mode": {
    "name": "ipython",
    "version": 3
   },
   "file_extension": ".py",
   "mimetype": "text/x-python",
   "name": "python",
   "nbconvert_exporter": "python",
   "pygments_lexer": "ipython3",
   "version": "3.8.10"
  }
 },
 "nbformat": 4,
 "nbformat_minor": 4
}
