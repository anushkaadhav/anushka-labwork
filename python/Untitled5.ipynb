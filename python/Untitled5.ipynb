{
 "cells": [
  {
   "cell_type": "code",
   "execution_count": 1,
   "metadata": {},
   "outputs": [
    {
     "name": "stdout",
     "output_type": "stream",
     "text": [
      "Original string: apple\n",
      "Modified string: $pple\n"
     ]
    }
   ],
   "source": [
    "def replace_a_with_dollar(input_string):\n",
    "    return input_string.replace('a', '$')\n",
    "original_string = 'apple'\n",
    "modified_string = replace_a_with_dollar(original_string)\n",
    "print('Original string:', original_string)\n",
    "print('Modified string:', modified_string)"
   ]
  },
  {
   "cell_type": "code",
   "execution_count": 2,
   "metadata": {},
   "outputs": [
    {
     "name": "stdout",
     "output_type": "stream",
     "text": [
      "{'g': 1}\n"
     ]
    }
   ],
   "source": [
    "def char_frequency(input_string):\n",
    "    frequency_dict = {}\n",
    "    for char in input_string:\n",
    "        if char in frequency_dict:\n",
    "            frequency_dict[char] += 1\n",
    "        else:\n",
    "            frequency_dict[char] = 1\n",
    "            return frequency_dict\n",
    "sample_string = \"google.com\"\n",
    "result = char_frequency(sample_string)\n",
    "print(result)         cop"
   ]
  },
  {
   "cell_type": "code",
   "execution_count": 3,
   "metadata": {},
   "outputs": [
    {
     "ename": "SyntaxError",
     "evalue": "EOL while scanning string literal (<ipython-input-3-839c94e5cc51>, line 3)",
     "output_type": "error",
     "traceback": [
      "\u001b[0;36m  File \u001b[0;32m\"<ipython-input-3-839c94e5cc51>\"\u001b[0;36m, line \u001b[0;32m3\u001b[0m\n\u001b[0;31m    return \"\u001b[0m\n\u001b[0m            ^\u001b[0m\n\u001b[0;31mSyntaxError\u001b[0m\u001b[0;31m:\u001b[0m EOL while scanning string literal\n"
     ]
    }
   ],
   "source": [
    "def get_string(s):\n",
    "    if len(s) < 2:\n",
    "        return \"\n",
    "    return s[:2] +s[-2:]\n",
    "print(get_string('General 12'))\n",
    "print(get_string('Ka'))\n",
    "print(get_string('K'))"
   ]
  },
  {
   "cell_type": "code",
   "execution_count": 4,
   "metadata": {},
   "outputs": [
    {
     "name": "stdout",
     "output_type": "stream",
     "text": [
      "Ge12\n",
      "KaKa\n",
      "\n"
     ]
    }
   ],
   "source": [
    "def get_string(s):\n",
    "    if len(s) < 2:\n",
    "        return ''\n",
    "    return s[:2] + s[-2:]\n",
    "print(get_string('General 12'))  \n",
    "print(get_string('Ka'))       \n",
    "print(get_string('K'))   "
   ]
  },
  {
   "cell_type": "code",
   "execution_count": 5,
   "metadata": {},
   "outputs": [
    {
     "name": "stdout",
     "output_type": "stream",
     "text": [
      "The length of the string is: 1\n"
     ]
    }
   ],
   "source": [
    "def string_length(input_string):\n",
    "    count=0\n",
    "    for character in input_string:\n",
    "        count+=1\n",
    "        return count\n",
    "input_string='Hello, World!'\n",
    "length=string_length(input_string)\n",
    "print(f\"The length of the string is: {length}\")"
   ]
  },
  {
   "cell_type": "code",
   "execution_count": 6,
   "metadata": {},
   "outputs": [
    {
     "name": "stdout",
     "output_type": "stream",
     "text": [
      "abkppc\n"
     ]
    }
   ],
   "source": [
    "def swap_first_two_chars(str1, str2):\n",
    "    new_str1=str2[:2] + str1[2:]\n",
    "    new_str2=str1[:2] + str2[2:]\n",
    "    result=new_str1 + new_str2\n",
    "    return result\n",
    "str1='ppk'\n",
    "str2='abc'\n",
    "result=swap_first_two_chars(str1,str2)\n",
    "print(result)"
   ]
  },
  {
   "cell_type": "code",
   "execution_count": 7,
   "metadata": {},
   "outputs": [
    {
     "name": "stdout",
     "output_type": "stream",
     "text": [
      "Enter a string:80,30,90,60,20\n",
      "\"80,30,90,60,20\" is not a palindrome.\n"
     ]
    }
   ],
   "source": [
    "def is_palindrome(s):\n",
    "    s=''.join(c for c in s if c.isalnum()).lower()\n",
    "    return s==s[::-1]\n",
    "test_string=input(\"Enter a string:\")\n",
    "if is_palindrome(test_string):\n",
    "    print(f'\"{test_string}\" is a palindrome.')\n",
    "else:\n",
    "    print(f'\"{test_string}\" is not a palindrome.')"
   ]
  },
  {
   "cell_type": "code",
   "execution_count": 8,
   "metadata": {},
   "outputs": [
    {
     "ename": "NameError",
     "evalue": "name 'count_digit_and_letters' is not defined",
     "output_type": "error",
     "traceback": [
      "\u001b[0;31m---------------------------------------------------------------------------\u001b[0m",
      "\u001b[0;31mNameError\u001b[0m                                 Traceback (most recent call last)",
      "\u001b[0;32m<ipython-input-8-b792ba6df28d>\u001b[0m in \u001b[0;36m<module>\u001b[0;34m\u001b[0m\n\u001b[1;32m      9\u001b[0m     \u001b[0;32mreturn\u001b[0m \u001b[0mdigit_count\u001b[0m\u001b[0;34m,\u001b[0m \u001b[0mletter_count\u001b[0m\u001b[0;34m\u001b[0m\u001b[0;34m\u001b[0m\u001b[0m\n\u001b[1;32m     10\u001b[0m \u001b[0minput_string\u001b[0m\u001b[0;34m=\u001b[0m\u001b[0;34m'Hello123World!'\u001b[0m\u001b[0;34m\u001b[0m\u001b[0;34m\u001b[0m\u001b[0m\n\u001b[0;32m---> 11\u001b[0;31m \u001b[0mdigits\u001b[0m\u001b[0;34m,\u001b[0m \u001b[0mletters\u001b[0m\u001b[0;34m=\u001b[0m\u001b[0mcount_digit_and_letters\u001b[0m\u001b[0;34m(\u001b[0m\u001b[0minput_string\u001b[0m\u001b[0;34m)\u001b[0m\u001b[0;34m\u001b[0m\u001b[0;34m\u001b[0m\u001b[0m\n\u001b[0m\u001b[1;32m     12\u001b[0m \u001b[0mprint\u001b[0m\u001b[0;34m(\u001b[0m\u001b[0;34mf\"Number of digits:{digits}\"\u001b[0m\u001b[0;34m)\u001b[0m\u001b[0;34m\u001b[0m\u001b[0;34m\u001b[0m\u001b[0m\n\u001b[1;32m     13\u001b[0m \u001b[0mprint\u001b[0m\u001b[0;34m(\u001b[0m\u001b[0;34mf\"Number of letters:{letters}\"\u001b[0m\u001b[0;34m)\u001b[0m\u001b[0;34m\u001b[0m\u001b[0;34m\u001b[0m\u001b[0m\n",
      "\u001b[0;31mNameError\u001b[0m: name 'count_digit_and_letters' is not defined"
     ]
    }
   ],
   "source": [
    "def count_digits_and_letters(input_string):\n",
    "    digit_count=0\n",
    "    letter_count=0\n",
    "    for char in input_string:\n",
    "        if char.isdigit():\n",
    "            digit_count+=1\n",
    "        elif char.isalpha():\n",
    "            letter_count+=1\n",
    "    return digit_count, letter_count\n",
    "input_string='Hello123World!'\n",
    "digits, letters=count_digit_and_letters(input_string)\n",
    "print(f\"Number of digits:{digits}\")\n",
    "print(f\"Number of letters:{letters}\")"
   ]
  },
  {
   "cell_type": "code",
   "execution_count": 9,
   "metadata": {},
   "outputs": [
    {
     "ename": "NameError",
     "evalue": "name 'count_digit_and_letters' is not defined",
     "output_type": "error",
     "traceback": [
      "\u001b[0;31m---------------------------------------------------------------------------\u001b[0m",
      "\u001b[0;31mNameError\u001b[0m                                 Traceback (most recent call last)",
      "\u001b[0;32m<ipython-input-9-6bc7b18baa37>\u001b[0m in \u001b[0;36m<module>\u001b[0;34m\u001b[0m\n\u001b[1;32m      9\u001b[0m     \u001b[0;32mreturn\u001b[0m \u001b[0mdigit_count\u001b[0m\u001b[0;34m,\u001b[0m\u001b[0mletter_count\u001b[0m\u001b[0;34m\u001b[0m\u001b[0;34m\u001b[0m\u001b[0m\n\u001b[1;32m     10\u001b[0m \u001b[0minput_string\u001b[0m\u001b[0;34m=\u001b[0m\u001b[0;34m'Hello123World!'\u001b[0m\u001b[0;34m\u001b[0m\u001b[0;34m\u001b[0m\u001b[0m\n\u001b[0;32m---> 11\u001b[0;31m \u001b[0mdigits\u001b[0m\u001b[0;34m,\u001b[0m \u001b[0mletters\u001b[0m\u001b[0;34m=\u001b[0m\u001b[0mcount_digit_and_letters\u001b[0m\u001b[0;34m(\u001b[0m\u001b[0minput_string\u001b[0m\u001b[0;34m)\u001b[0m\u001b[0;34m\u001b[0m\u001b[0;34m\u001b[0m\u001b[0m\n\u001b[0m\u001b[1;32m     12\u001b[0m \u001b[0mprint\u001b[0m\u001b[0;34m(\u001b[0m\u001b[0;34mf\"Number of digits:{digits}\"\u001b[0m\u001b[0;34m)\u001b[0m\u001b[0;34m\u001b[0m\u001b[0;34m\u001b[0m\u001b[0m\n\u001b[1;32m     13\u001b[0m \u001b[0mprint\u001b[0m\u001b[0;34m(\u001b[0m\u001b[0;34mf\"Number of letters:{letters}\"\u001b[0m\u001b[0;34m)\u001b[0m\u001b[0;34m\u001b[0m\u001b[0;34m\u001b[0m\u001b[0m\n",
      "\u001b[0;31mNameError\u001b[0m: name 'count_digit_and_letters' is not defined"
     ]
    }
   ],
   "source": [
    "def count_digits_and_letters(input_string):\n",
    "    digit_count=0\n",
    "    letter_count=0\n",
    "    for char in input_string:\n",
    "        if char.isdigit():\n",
    "            digit_count+=1\n",
    "        elif char.isalpha():\n",
    "            letter_count+=1\n",
    "    return digit_count,letter_count\n",
    "input_string='Hello123World!'\n",
    "digits, letters=count_digit_and_letters(input_string)\n",
    "print(f\"Number of digits:{digits}\")\n",
    "print(f\"Number of letters:{letters}\")"
   ]
  },
  {
   "cell_type": "code",
   "execution_count": 10,
   "metadata": {},
   "outputs": [
    {
     "name": "stdout",
     "output_type": "stream",
     "text": [
      "Number of digits:3\n",
      "Number of letters:10\n"
     ]
    }
   ],
   "source": [
    "def count_digits_and_letters(input_string):\n",
    "    digit_count=0\n",
    "    letter_count=0\n",
    "    for char in input_string:\n",
    "        if char.isdigit():\n",
    "            digit_count+=1\n",
    "        elif char.isalpha():\n",
    "            letter_count+=1\n",
    "    return digit_count, letter_count\n",
    "input_string='Hello123World!'\n",
    "digits, letters=count_digits_and_letters(input_string)\n",
    "print(f\"Number of digits:{digits}\")\n",
    "print(f\"Number of letters:{letters}\")"
   ]
  },
  {
   "cell_type": "code",
   "execution_count": 11,
   "metadata": {},
   "outputs": [
    {
     "ename": "SyntaxError",
     "evalue": "invalid syntax (<ipython-input-11-3f067c492246>, line 1)",
     "output_type": "error",
     "traceback": [
      "\u001b[0;36m  File \u001b[0;32m\"<ipython-input-11-3f067c492246>\"\u001b[0;36m, line \u001b[0;32m1\u001b[0m\n\u001b[0;31m    def remove_odd_index_char(input string):\u001b[0m\n\u001b[0m                                    ^\u001b[0m\n\u001b[0;31mSyntaxError\u001b[0m\u001b[0;31m:\u001b[0m invalid syntax\n"
     ]
    }
   ],
   "source": [
    "def remove_odd_index_char(input string):\n",
    "    result = ''.join([char for index, char in enumerate(input_string) if index % 2 == 0])\n",
    "    return result\n",
    "given_string='abcdef'\n",
    "print(\"Original string:\", given_string)\n",
    "new_string=remove_odd_index_chars(given_string)\n",
    "print(\"String with odd index characters removed:\",new_string)"
   ]
  },
  {
   "cell_type": "code",
   "execution_count": 12,
   "metadata": {},
   "outputs": [
    {
     "name": "stdout",
     "output_type": "stream",
     "text": [
      "Original string: abcdef\n"
     ]
    },
    {
     "ename": "NameError",
     "evalue": "name 'remove_odd_index_chars' is not defined",
     "output_type": "error",
     "traceback": [
      "\u001b[0;31m---------------------------------------------------------------------------\u001b[0m",
      "\u001b[0;31mNameError\u001b[0m                                 Traceback (most recent call last)",
      "\u001b[0;32m<ipython-input-12-e1266a0f0f13>\u001b[0m in \u001b[0;36m<module>\u001b[0;34m\u001b[0m\n\u001b[1;32m      4\u001b[0m \u001b[0mgiven_string\u001b[0m\u001b[0;34m=\u001b[0m\u001b[0;34m'abcdef'\u001b[0m\u001b[0;34m\u001b[0m\u001b[0;34m\u001b[0m\u001b[0m\n\u001b[1;32m      5\u001b[0m \u001b[0mprint\u001b[0m\u001b[0;34m(\u001b[0m\u001b[0;34m\"Original string:\"\u001b[0m\u001b[0;34m,\u001b[0m \u001b[0mgiven_string\u001b[0m\u001b[0;34m)\u001b[0m\u001b[0;34m\u001b[0m\u001b[0;34m\u001b[0m\u001b[0m\n\u001b[0;32m----> 6\u001b[0;31m \u001b[0mnew_string\u001b[0m\u001b[0;34m=\u001b[0m\u001b[0mremove_odd_index_chars\u001b[0m\u001b[0;34m(\u001b[0m\u001b[0mgiven_string\u001b[0m\u001b[0;34m)\u001b[0m\u001b[0;34m\u001b[0m\u001b[0;34m\u001b[0m\u001b[0m\n\u001b[0m\u001b[1;32m      7\u001b[0m \u001b[0mprint\u001b[0m\u001b[0;34m(\u001b[0m\u001b[0;34m\"String with odd index characters removed:\"\u001b[0m\u001b[0;34m,\u001b[0m\u001b[0mnew_string\u001b[0m\u001b[0;34m)\u001b[0m\u001b[0;34m\u001b[0m\u001b[0;34m\u001b[0m\u001b[0m\n",
      "\u001b[0;31mNameError\u001b[0m: name 'remove_odd_index_chars' is not defined"
     ]
    }
   ],
   "source": [
    "def remove_odd_index_char(input_string):\n",
    "    result = ''.join([char for index, char in enumerate(input_string) if index % 2 == 0])\n",
    "    return result\n",
    "given_string='abcdef'\n",
    "print(\"Original string:\", given_string)\n",
    "new_string=remove_odd_index_chars(given_string)\n",
    "print(\"String with odd index characters removed:\",new_string)"
   ]
  },
  {
   "cell_type": "code",
   "execution_count": 13,
   "metadata": {},
   "outputs": [
    {
     "name": "stdout",
     "output_type": "stream",
     "text": [
      "Original string: abcdef\n"
     ]
    },
    {
     "ename": "NameError",
     "evalue": "name 'remove_odd_index_chars' is not defined",
     "output_type": "error",
     "traceback": [
      "\u001b[0;31m---------------------------------------------------------------------------\u001b[0m",
      "\u001b[0;31mNameError\u001b[0m                                 Traceback (most recent call last)",
      "\u001b[0;32m<ipython-input-13-86567298dfc7>\u001b[0m in \u001b[0;36m<module>\u001b[0;34m\u001b[0m\n\u001b[1;32m      4\u001b[0m \u001b[0mgiven_string\u001b[0m\u001b[0;34m=\u001b[0m\u001b[0;34m'abcdef'\u001b[0m\u001b[0;34m\u001b[0m\u001b[0;34m\u001b[0m\u001b[0m\n\u001b[1;32m      5\u001b[0m \u001b[0mprint\u001b[0m\u001b[0;34m(\u001b[0m\u001b[0;34m\"Original string:\"\u001b[0m\u001b[0;34m,\u001b[0m \u001b[0mgiven_string\u001b[0m\u001b[0;34m)\u001b[0m\u001b[0;34m\u001b[0m\u001b[0;34m\u001b[0m\u001b[0m\n\u001b[0;32m----> 6\u001b[0;31m \u001b[0mnew_string\u001b[0m \u001b[0;34m=\u001b[0m \u001b[0mremove_odd_index_chars\u001b[0m\u001b[0;34m(\u001b[0m\u001b[0mgiven_string\u001b[0m\u001b[0;34m)\u001b[0m\u001b[0;34m\u001b[0m\u001b[0;34m\u001b[0m\u001b[0m\n\u001b[0m\u001b[1;32m      7\u001b[0m \u001b[0mprint\u001b[0m\u001b[0;34m(\u001b[0m\u001b[0;34m\"String with odd index characters removed:\"\u001b[0m\u001b[0;34m,\u001b[0m\u001b[0mnew_string\u001b[0m\u001b[0;34m)\u001b[0m\u001b[0;34m\u001b[0m\u001b[0;34m\u001b[0m\u001b[0m\n",
      "\u001b[0;31mNameError\u001b[0m: name 'remove_odd_index_chars' is not defined"
     ]
    }
   ],
   "source": [
    "def remove_odd_index_char(input_string):\n",
    "    result = ''.join([char for index, char in enumerate(input_string) if index % 2 == 0])\n",
    "    return result\n",
    "given_string='abcdef'\n",
    "print(\"Original string:\", given_string)\n",
    "new_string = remove_odd_index_chars(given_string)\n",
    "print(\"String with odd index characters removed:\",new_string)"
   ]
  },
  {
   "cell_type": "code",
   "execution_count": 14,
   "metadata": {},
   "outputs": [
    {
     "name": "stdout",
     "output_type": "stream",
     "text": [
      "Original String: abcdef\n",
      "String with odd index characters removed: ace\n"
     ]
    }
   ],
   "source": [
    "def remove_odd_index_chars(input_string):\n",
    "    # Using list comprehension to select characters at even indices\n",
    "    result = ''.join([char for index, char in enumerate(input_string) if index % 2 == 0])\n",
    "    return result\n",
    "given_string = \"abcdef\"\n",
    "print(\"Original String:\", given_string)\n",
    "new_string = remove_odd_index_chars(given_string)\n",
    "print(\"String with odd index characters removed:\", new_string)"
   ]
  },
  {
   "cell_type": "code",
   "execution_count": 16,
   "metadata": {},
   "outputs": [
    {
     "ename": "IndentationError",
     "evalue": "unindent does not match any outer indentation level (<tokenize>, line 5)",
     "output_type": "error",
     "traceback": [
      "\u001b[0;36m  File \u001b[0;32m\"<tokenize>\"\u001b[0;36m, line \u001b[0;32m5\u001b[0m\n\u001b[0;31m    for word in words:\u001b[0m\n\u001b[0m    ^\u001b[0m\n\u001b[0;31mIndentationError\u001b[0m\u001b[0;31m:\u001b[0m unindent does not match any outer indentation level\n"
     ]
    }
   ],
   "source": [
    "def count_word_occurrences(sentence):\n",
    "     sentence = ''.join(char.lower() for char in sentence if char.isalnum() or char.isspace())\n",
    "        words = sentence.split()\n",
    "        word_counts = {}\n",
    "    for word in words:\n",
    "        if word in word_counts:\n",
    "            word_counts[word] += 1\n",
    "        else:\n",
    "            word_counts[word] = 1\n",
    "            return word_counts\n",
    "        sentence = \"This is a test sentence. This sentence is for testing.\"\n",
    "word_counts = count_word_occurrences(sentence)\n",
    "print(word_counts)\n",
    "            \n",
    "        "
   ]
  },
  {
   "cell_type": "code",
   "execution_count": 17,
   "metadata": {},
   "outputs": [
    {
     "ename": "IndentationError",
     "evalue": "unexpected indent (<ipython-input-17-17b3618fa91f>, line 5)",
     "output_type": "error",
     "traceback": [
      "\u001b[0;36m  File \u001b[0;32m\"<ipython-input-17-17b3618fa91f>\"\u001b[0;36m, line \u001b[0;32m5\u001b[0m\n\u001b[0;31m    for word in words:\u001b[0m\n\u001b[0m    ^\u001b[0m\n\u001b[0;31mIndentationError\u001b[0m\u001b[0;31m:\u001b[0m unexpected indent\n"
     ]
    }
   ],
   "source": [
    "def count_word_occurrences(sentence):\n",
    "    sentence = ''.join(char.lower() for char in sentence if char.isalnum() or char.isspace())\n",
    "    words = sentence.split()\n",
    "    word_counts = {}\n",
    "     for word in words:\n",
    "        if word in word_counts:\n",
    "            word_counts[word] += 1\n",
    "        else:\n",
    "            word_counts[word] = 1\n",
    "            return word_counts\n",
    "        sentence = \"This is a test sentence. This sentence is for testing.\"\n",
    "word_counts = count_word_occurrences(sentence)\n",
    "print(word_counts)\n",
    "            \n",
    "    "
   ]
  },
  {
   "cell_type": "code",
   "execution_count": 18,
   "metadata": {},
   "outputs": [
    {
     "ename": "IndentationError",
     "evalue": "unexpected indent (<ipython-input-18-bf156dacf714>, line 5)",
     "output_type": "error",
     "traceback": [
      "\u001b[0;36m  File \u001b[0;32m\"<ipython-input-18-bf156dacf714>\"\u001b[0;36m, line \u001b[0;32m5\u001b[0m\n\u001b[0;31m    for word in words:\u001b[0m\n\u001b[0m    ^\u001b[0m\n\u001b[0;31mIndentationError\u001b[0m\u001b[0;31m:\u001b[0m unexpected indent\n"
     ]
    }
   ],
   "source": [
    "def count_word_occurrences(sentence):\n",
    "    sentence = ''.join(char.lower() for char in sentence if char.isalnum() or char.isspace())\n",
    "    words = sentence.split()\n",
    "    word_counts = {}\n",
    "     for word in words:\n",
    "        if word in word_counts:\n",
    "            word_counts[word] += 1\n",
    "        else:\n",
    "            word_counts[word] = 1\n",
    "            return word_counts\n",
    "sentence = \"This is a test sentence. This sentence is for testing.\"\n",
    "word_counts = count_word_occurrences(sentence)\n",
    "print(word_counts)"
   ]
  },
  {
   "cell_type": "code",
   "execution_count": 19,
   "metadata": {},
   "outputs": [
    {
     "ename": "NameError",
     "evalue": "name 're' is not defined",
     "output_type": "error",
     "traceback": [
      "\u001b[0;31m---------------------------------------------------------------------------\u001b[0m",
      "\u001b[0;31mNameError\u001b[0m                                 Traceback (most recent call last)",
      "\u001b[0;32m<ipython-input-19-03152636e961>\u001b[0m in \u001b[0;36m<module>\u001b[0;34m\u001b[0m\n\u001b[1;32m      1\u001b[0m \u001b[0mstr1\u001b[0m \u001b[0;34m=\u001b[0m \u001b[0;34m\"/]*Sachin is @Cricketer&Kind person\"\u001b[0m\u001b[0;34m\u001b[0m\u001b[0;34m\u001b[0m\u001b[0m\n\u001b[0;32m----> 2\u001b[0;31m \u001b[0mclean_str\u001b[0m \u001b[0;34m=\u001b[0m \u001b[0mre\u001b[0m\u001b[0;34m.\u001b[0m\u001b[0msub\u001b[0m\u001b[0;34m(\u001b[0m\u001b[0;34mr'[^\\w\\s]'\u001b[0m\u001b[0;34m,\u001b[0m \u001b[0;34m''\u001b[0m\u001b[0;34m,\u001b[0m \u001b[0mstr1\u001b[0m\u001b[0;34m)\u001b[0m\u001b[0;34m\u001b[0m\u001b[0;34m\u001b[0m\u001b[0m\n\u001b[0m\u001b[1;32m      3\u001b[0m \u001b[0mprint\u001b[0m\u001b[0;34m(\u001b[0m\u001b[0mclean_str\u001b[0m\u001b[0;34m)\u001b[0m\u001b[0;34m\u001b[0m\u001b[0;34m\u001b[0m\u001b[0m\n",
      "\u001b[0;31mNameError\u001b[0m: name 're' is not defined"
     ]
    }
   ],
   "source": [
    "str1 = \"/]*Sachin is @Cricketer&Kind person\"\n",
    "clean_str = re.sub(r'[^\\w\\s]', '', str1)\n",
    "print(clean_str)"
   ]
  },
  {
   "cell_type": "code",
   "execution_count": 20,
   "metadata": {},
   "outputs": [
    {
     "name": "stdout",
     "output_type": "stream",
     "text": [
      "Sachin is CricketerKind person\n"
     ]
    }
   ],
   "source": [
    "import re\n",
    "\n",
    "str1 = \"/]*Sachin is @Cricketer&Kind person\"\n",
    "clean_str = re.sub(r'[^\\w\\s]', '', str1)\n",
    "print(clean_str)"
   ]
  },
  {
   "cell_type": "code",
   "execution_count": null,
   "metadata": {},
   "outputs": [],
   "source": []
  }
 ],
 "metadata": {
  "kernelspec": {
   "display_name": "Python 3",
   "language": "python",
   "name": "python3"
  },
  "language_info": {
   "codemirror_mode": {
    "name": "ipython",
    "version": 3
   },
   "file_extension": ".py",
   "mimetype": "text/x-python",
   "name": "python",
   "nbconvert_exporter": "python",
   "pygments_lexer": "ipython3",
   "version": "3.8.10"
  }
 },
 "nbformat": 4,
 "nbformat_minor": 4
}
