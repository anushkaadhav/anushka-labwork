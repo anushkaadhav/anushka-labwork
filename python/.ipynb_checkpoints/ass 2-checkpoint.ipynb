{
 "cells": [
  {
   "cell_type": "code",
   "execution_count": 3,
   "metadata": {},
   "outputs": [
    {
     "name": "stdout",
     "output_type": "stream",
     "text": [
      "out of range\n"
     ]
    }
   ],
   "source": [
    "import sys\n",
    "sys.argv=[\"que2\",\"70\"]\n",
    "if len(sys.argv)!=2:\n",
    "    print(\"not valid\")\n",
    "else:\n",
    "    value=int(sys.argv[1])\n",
    "    if 1<=value<=50:\n",
    "        print(\"ok\")\n",
    "    else:\n",
    "        print(\"out of range\")\n",
    "        "
   ]
  },
  {
   "cell_type": "code",
   "execution_count": 4,
   "metadata": {
    "scrolled": true
   },
   "outputs": [
    {
     "name": "stdout",
     "output_type": "stream",
     "text": [
      "11\n",
      "H\n",
      "ello\n",
      "Hello s\n",
      "llo sybca\n"
     ]
    }
   ],
   "source": [
    "text=\"Hello sybca\"\n",
    "print(len(text))\n",
    "print(text[0])\n",
    "print(text[1:5])\n",
    "print(text[ :7])\n",
    "print(text[2: ])\n"
   ]
  },
  {
   "cell_type": "code",
   "execution_count": 5,
   "metadata": {},
   "outputs": [
    {
     "name": "stdout",
     "output_type": "stream",
     "text": [
      "HELLO\n",
      "hello\n",
      "Hello\n",
      "He$$o\n",
      "2\n"
     ]
    }
   ],
   "source": [
    "text=\"Hello\"\n",
    "print(text.upper())\n",
    "print(text.lower())\n",
    "print(text.title())\n",
    "print(text.replace(\"l\",\"$\"))\n",
    "print(text.count(\"l\"))"
   ]
  },
  {
   "cell_type": "code",
   "execution_count": 6,
   "metadata": {},
   "outputs": [
    {
     "name": "stdout",
     "output_type": "stream",
     "text": [
      "['hello', 'world']\n",
      "True\n",
      "True\n"
     ]
    }
   ],
   "source": [
    "text=\"hello world\"\n",
    "print(text.split())\n",
    "print(text.startswith(\"hello\"))\n",
    "print(text.endswith(\"world\"))"
   ]
  },
  {
   "cell_type": "code",
   "execution_count": 7,
   "metadata": {},
   "outputs": [
    {
     "name": "stdout",
     "output_type": "stream",
     "text": [
      "$pple\n"
     ]
    }
   ],
   "source": [
    "text=\"apple\"\n",
    "print(text.replace(\"a\",\"$\"))"
   ]
  },
  {
   "cell_type": "code",
   "execution_count": 11,
   "metadata": {},
   "outputs": [
    {
     "name": "stdout",
     "output_type": "stream",
     "text": [
      "g : 2\n",
      "o : 3\n",
      "o : 3\n",
      "g : 2\n",
      "l : 1\n",
      "e : 1\n",
      ". : 1\n",
      "c : 1\n",
      "o : 3\n",
      "m : 1\n"
     ]
    }
   ],
   "source": [
    "string=\"google.com\"\n",
    "for i in string:\n",
    "    print(i,\":\",string.count(i))\n"
   ]
  },
  {
   "cell_type": "code",
   "execution_count": 12,
   "metadata": {},
   "outputs": [
    {
     "name": "stdout",
     "output_type": "stream",
     "text": [
      "6\n"
     ]
    }
   ],
   "source": [
    "string=\"tanuja\"\n",
    "print(len(\"string\"))"
   ]
  },
  {
   "cell_type": "code",
   "execution_count": null,
   "metadata": {},
   "outputs": [],
   "source": [
    "istring=input(\"enter the string:\")\n",
    "if len(istring)<2:\n",
    "    print(\"empty string\")\n",
    "else:\n",
    "    firsttwo=istring[0]+istring[1]\n",
    "    lasttwo=istring[-2]+istring[-1]\n",
    "    result=firsttwo+lasttwo\n",
    "    print(\"final string:\",result)\n",
    "    "
   ]
  },
  {
   "cell_type": "raw",
   "metadata": {},
   "source": [
    "string=input(\"enter the string:\")"
   ]
  },
  {
   "cell_type": "code",
   "execution_count": 21,
   "metadata": {},
   "outputs": [
    {
     "name": "stdout",
     "output_type": "stream",
     "text": [
      "enter the string:apple\n",
      "string after replacing occurance of a with $: $pple\n"
     ]
    }
   ],
   "source": [
    "string=input(\"enter the string:\")\n",
    "ostring=string.replace('a','$')\n",
    "print(\"string after replacing occurance of a with $:\",ostring)"
   ]
  },
  {
   "cell_type": "raw",
   "metadata": {},
   "source": [
    "\n",
    "string=input(\"enter the string:\")"
   ]
  },
  {
   "cell_type": "code",
   "execution_count": 16,
   "metadata": {},
   "outputs": [
    {
     "name": "stdout",
     "output_type": "stream",
     "text": [
      "enter the string:google.com\n",
      "character frequency\n",
      "g:2\n",
      "o:3\n",
      "l:1\n",
      "e:1\n",
      ".:1\n",
      "c:1\n",
      "m:1\n"
     ]
    }
   ],
   "source": [
    "string=input(\"enter the string:\")\n",
    "visitedchar=\"\"\n",
    "print(\"character frequency\")\n",
    "for i in string:\n",
    "    if i not in visitedchar:\n",
    "        count=0;\n",
    "        for j in string:\n",
    "            if i==j:\n",
    "                count=count+1;\n",
    "        print(f\"{i}:{count}\")\n",
    "        visitedchar=visitedchar+i"
   ]
  },
  {
   "cell_type": "code",
   "execution_count": 19,
   "metadata": {},
   "outputs": [
    {
     "name": "stdout",
     "output_type": "stream",
     "text": [
      "enter the string:anushka\n",
      "7\n"
     ]
    }
   ],
   "source": [
    "string=input(\"enter the string:\")\n",
    "count=0\n",
    "for i in string:\n",
    "    count=count+1\n",
    "print(count)"
   ]
  },
  {
   "cell_type": "code",
   "execution_count": null,
   "metadata": {},
   "outputs": [],
   "source": [
    "istring=input(\"enter the string:\")\n",
    "if len(istring)<2:\n",
    "    print(\"empty string\")\n",
    "else:\n",
    "    firsttwo=istring[0]+istring[1]\n",
    "    lasttwo=istring[-2]+istring[-1]\n",
    "    result=firsttwo+lasttwo\n",
    "    print(\"final string:\",result)\n",
    "    "
   ]
  },
  {
   "cell_type": "code",
   "execution_count": null,
   "metadata": {},
   "outputs": [],
   "source": []
  },
  {
   "cell_type": "code",
   "execution_count": null,
   "metadata": {},
   "outputs": [],
   "source": [
    "string=input(\"enter the string:\")\n",
    "if len(string)<2:\n",
    "    print(\"empty string\")\n",
    "else:\n",
    "    firsttwo=string[0]+string[1]\n",
    "    lasttwo=string[-2]+string[-1]\n",
    "    result=firsttwo+lasttwo\n",
    "    print(\"final string:\",result)\n",
    "    "
   ]
  },
  {
   "cell_type": "code",
   "execution_count": 2,
   "metadata": {},
   "outputs": [
    {
     "name": "stdout",
     "output_type": "stream",
     "text": [
      "enter the string:anusjkas\n",
      "final string: anas\n"
     ]
    }
   ],
   "source": [
    "istring=input(\"enter the string:\")\n",
    "if len(istring)<2:\n",
    "    print(\"empty string\")\n",
    "else:\n",
    "    firsttwo=istring[0]+istring[1]\n",
    "    lasttwo=istring[-2]+istring[-1]\n",
    "    result=firsttwo+lasttwo\n",
    "    print(\"final string:\",result)\n",
    "    "
   ]
  },
  {
   "cell_type": "code",
   "execution_count": null,
   "metadata": {},
   "outputs": [],
   "source": [
    "\n",
    "\n",
    "\n",
    "\n",
    "\n",
    "\n",
    "\n"
   ]
  },
  {
   "cell_type": "code",
   "execution_count": null,
   "metadata": {},
   "outputs": [],
   "source": [
    "istring=input(\"enter the string:\")\n",
    "if len(istring)<2:\n",
    "    print(\"empty string\")\n",
    "else:\n",
    "    firsttwo=istring[0]+istring[1]\n",
    "    lasttwo=istring[-2]+istring[-1]\n",
    "    result=firsttwo+lasttwo\n",
    "    print(\"final string:\",result)"
   ]
  },
  {
   "cell_type": "code",
   "execution_count": null,
   "metadata": {},
   "outputs": [],
   "source": []
  }
 ],
 "metadata": {
  "kernelspec": {
   "display_name": "Python 3",
   "language": "python",
   "name": "python3"
  },
  "language_info": {
   "codemirror_mode": {
    "name": "ipython",
    "version": 3
   },
   "file_extension": ".py",
   "mimetype": "text/x-python",
   "name": "python",
   "nbconvert_exporter": "python",
   "pygments_lexer": "ipython3",
   "version": "3.8.10"
  }
 },
 "nbformat": 4,
 "nbformat_minor": 4
}
