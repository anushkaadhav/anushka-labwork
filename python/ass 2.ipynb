{
 "cells": [
  {
   "cell_type": "code",
   "execution_count": 3,
   "metadata": {},
   "outputs": [
    {
     "name": "stdout",
     "output_type": "stream",
     "text": [
      "out of range\n"
     ]
    }
   ],
   "source": [
    "import sys\n",
    "sys.argv=[\"que2\",\"70\"]\n",
    "if len(sys.argv)!=2:\n",
    "    print(\"not valid\")\n",
    "else:\n",
    "    value=int(sys.argv[1])\n",
    "    if 1<=value<=50:\n",
    "        print(\"ok\")\n",
    "    else:\n",
    "        print(\"out of range\")\n",
    "        "
   ]
  },
  {
   "cell_type": "code",
   "execution_count": 4,
   "metadata": {
    "scrolled": true
   },
   "outputs": [
    {
     "name": "stdout",
     "output_type": "stream",
     "text": [
      "11\n",
      "H\n",
      "ello\n",
      "Hello s\n",
      "llo sybca\n"
     ]
    }
   ],
   "source": [
    "text=\"Hello sybca\"\n",
    "print(len(text))\n",
    "print(text[0])\n",
    "print(text[1:5])\n",
    "print(text[ :7])\n",
    "print(text[2: ])\n"
   ]
  },
  {
   "cell_type": "code",
   "execution_count": 5,
   "metadata": {},
   "outputs": [
    {
     "name": "stdout",
     "output_type": "stream",
     "text": [
      "HELLO\n",
      "hello\n",
      "Hello\n",
      "He$$o\n",
      "2\n"
     ]
    }
   ],
   "source": [
    "text=\"Hello\"\n",
    "print(text.upper())\n",
    "print(text.lower())\n",
    "print(text.title())\n",
    "print(text.replace(\"l\",\"$\"))\n",
    "print(text.count(\"l\"))"
   ]
  },
  {
   "cell_type": "code",
   "execution_count": 6,
   "metadata": {},
   "outputs": [
    {
     "name": "stdout",
     "output_type": "stream",
     "text": [
      "['hello', 'world']\n",
      "True\n",
      "True\n"
     ]
    }
   ],
   "source": [
    "text=\"hello world\"\n",
    "print(text.split())\n",
    "print(text.startswith(\"hello\"))\n",
    "print(text.endswith(\"world\"))"
   ]
  },
  {
   "cell_type": "code",
   "execution_count": 7,
   "metadata": {},
   "outputs": [
    {
     "name": "stdout",
     "output_type": "stream",
     "text": [
      "$pple\n"
     ]
    }
   ],
   "source": [
    "text=\"apple\"\n",
    "print(text.replace(\"a\",\"$\"))"
   ]
  },
  {
   "cell_type": "code",
   "execution_count": 11,
   "metadata": {},
   "outputs": [
    {
     "name": "stdout",
     "output_type": "stream",
     "text": [
      "g : 2\n",
      "o : 3\n",
      "o : 3\n",
      "g : 2\n",
      "l : 1\n",
      "e : 1\n",
      ". : 1\n",
      "c : 1\n",
      "o : 3\n",
      "m : 1\n"
     ]
    }
   ],
   "source": [
    "string=\"google.com\"\n",
    "for i in string:\n",
    "    print(i,\":\",string.count(i))\n"
   ]
  },
  {
   "cell_type": "code",
   "execution_count": 12,
   "metadata": {},
   "outputs": [
    {
     "name": "stdout",
     "output_type": "stream",
     "text": [
      "6\n"
     ]
    }
   ],
   "source": [
    "string=\"tanuja\"\n",
    "print(len(\"string\"))"
   ]
  },
  {
   "cell_type": "code",
   "execution_count": null,
   "metadata": {},
   "outputs": [],
   "source": [
    "istring=input(\"enter the string:\")\n",
    "if len(istring)<2:\n",
    "    print(\"empty string\")\n",
    "else:\n",
    "    firsttwo=istring[0]+istring[1]\n",
    "    lasttwo=istring[-2]+istring[-1]\n",
    "    result=firsttwo+lasttwo\n",
    "    print(\"final string:\",result)\n",
    "    "
   ]
  },
  {
   "cell_type": "raw",
   "metadata": {},
   "source": [
    "string=input(\"enter the string:\")"
   ]
  },
  {
   "cell_type": "code",
   "execution_count": 21,
   "metadata": {},
   "outputs": [
    {
     "name": "stdout",
     "output_type": "stream",
     "text": [
      "enter the string:apple\n",
      "string after replacing occurance of a with $: $pple\n"
     ]
    }
   ],
   "source": [
    "string=input(\"enter the string:\")\n",
    "ostring=string.replace('a','$')\n",
    "print(\"string after replacing occurance of a with $:\",ostring)"
   ]
  },
  {
   "cell_type": "raw",
   "metadata": {},
   "source": [
    "\n",
    "string=input(\"enter the string:\")"
   ]
  },
  {
   "cell_type": "code",
   "execution_count": 16,
   "metadata": {},
   "outputs": [
    {
     "name": "stdout",
     "output_type": "stream",
     "text": [
      "enter the string:google.com\n",
      "character frequency\n",
      "g:2\n",
      "o:3\n",
      "l:1\n",
      "e:1\n",
      ".:1\n",
      "c:1\n",
      "m:1\n"
     ]
    }
   ],
   "source": [
    "string=input(\"enter the string:\")\n",
    "visitedchar=\"\"\n",
    "print(\"character frequency\")\n",
    "for i in string:\n",
    "    if i not in visitedchar:\n",
    "        count=0;\n",
    "        for j in string:\n",
    "            if i==j:\n",
    "                count=count+1;\n",
    "        print(f\"{i}:{count}\")\n",
    "        visitedchar=visitedchar+i"
   ]
  },
  {
   "cell_type": "code",
   "execution_count": 19,
   "metadata": {},
   "outputs": [
    {
     "name": "stdout",
     "output_type": "stream",
     "text": [
      "enter the string:anushka\n",
      "7\n"
     ]
    }
   ],
   "source": [
    "string=input(\"enter the string:\")\n",
    "count=0\n",
    "for i in string:\n",
    "    count=count+1\n",
    "print(count)"
   ]
  },
  {
   "cell_type": "code",
   "execution_count": 10,
   "metadata": {},
   "outputs": [
    {
     "name": "stdout",
     "output_type": "stream",
     "text": [
      "enter the string:ppk\n",
      "final string: pppk\n"
     ]
    }
   ],
   "source": [
    "istring=input(\"enter the string:\")\n",
    "if len(istring)<2:\n",
    "    print(\"empty string\")\n",
    "else:\n",
    "    firsttwo=istring[0]+istring[1]\n",
    "    lasttwo=istring[-2]+istring[-1]\n",
    "    result=firsttwo+lasttwo\n",
    "    print(\"final string:\",result)\n",
    "    "
   ]
  },
  {
   "cell_type": "code",
   "execution_count": null,
   "metadata": {},
   "outputs": [],
   "source": []
  },
  {
   "cell_type": "code",
   "execution_count": null,
   "metadata": {},
   "outputs": [],
   "source": [
    "string=input(\"enter the string:\")\n",
    "if len(string)<2:\n",
    "    print(\"empty string\")\n",
    "else:\n",
    "    firsttwo=string[0]+string[1]\n",
    "    lasttwo=string[-2]+string[-1]\n",
    "    result=firsttwo+lasttwo\n",
    "    print(\"final string:\",result)\n",
    "    "
   ]
  },
  {
   "cell_type": "code",
   "execution_count": 2,
   "metadata": {},
   "outputs": [
    {
     "name": "stdout",
     "output_type": "stream",
     "text": [
      "enter the string:anusjkas\n",
      "final string: anas\n"
     ]
    }
   ],
   "source": [
    "istring=input(\"enter the string:\")\n",
    "if len(istring)<2:\n",
    "    print(\"empty string\")\n",
    "else:\n",
    "    firsttwo=istring[0]+istring[1]\n",
    "    lasttwo=istring[-2]+istring[-1]\n",
    "    result=firsttwo+lasttwo\n",
    "    print(\"final string:\",result)\n",
    "    "
   ]
  },
  {
   "cell_type": "code",
   "execution_count": 3,
   "metadata": {},
   "outputs": [
    {
     "name": "stdout",
     "output_type": "stream",
     "text": [
      "Enter a String: anushka\n",
      "Your String: anushka\n",
      "Converted String: anushka\n"
     ]
    }
   ],
   "source": [
    "\n",
    "\n",
    "mystring = str(input(\"Enter a String: \"))\n",
    "print(\"Your String:\", mystring)\n",
    "\n",
    "newstr = \"\"\n",
    "\n",
    "for word in mystring:\n",
    "    if word.isalnum() or word.isspace():\n",
    "        newstr += word\n",
    "\n",
    "print(f\"Converted String: {newstr}\")\n",
    "    \n",
    "    \n",
    "\n",
    "\n",
    "\n",
    "\n",
    "\n"
   ]
  },
  {
   "cell_type": "code",
   "execution_count": null,
   "metadata": {},
   "outputs": [],
   "source": [
    "istring=input(\"enter the string:\")\n",
    "if len(istring)<2:\n",
    "    print(\"empty string\")\n",
    "else:\n",
    "    firsttwo=istring[0]+istring[1]\n",
    "    lasttwo=istring[-2]+istring[-1]\n",
    "    result=firsttwo+lasttwo\n",
    "    print(\"final string:\",result)"
   ]
  },
  {
   "cell_type": "code",
   "execution_count": 4,
   "metadata": {},
   "outputs": [
    {
     "name": "stdout",
     "output_type": "stream",
     "text": [
      "Enter a String: tamujasd\n",
      "Your String: tamujasd\n",
      "Frequency of each word: {'tamujasd': 1}\n"
     ]
    }
   ],
   "source": [
    "mystring = str(input(\"Enter a String: \"))\n",
    "print(\"Your String:\", mystring)\n",
    "\n",
    "frequency = {}\n",
    "\n",
    "for x in mystring.split():\n",
    "    if x in frequency:\n",
    "        frequency[x] += 1\n",
    "    else:\n",
    "        frequency[x] = 1\n",
    "\n",
    "print(f\"Frequency of each word: {frequency}\")\n"
   ]
  },
  {
   "cell_type": "code",
   "execution_count": 5,
   "metadata": {},
   "outputs": [
    {
     "name": "stdout",
     "output_type": "stream",
     "text": [
      "Enter a String: mayur\n",
      "Your String: mayur\n",
      "Converted String: myr\n"
     ]
    }
   ],
   "source": [
    "mystring = str(input(\"Enter a String: \"))\n",
    "print(\"Your String:\", mystring)\n",
    "\n",
    "newstr = \"\"\n",
    "\n",
    "for i in range(len(mystring)):\n",
    "    if(i % 2 == 0):\n",
    "        newstr += mystring[i]\n",
    "\n",
    "print(f\"Converted String: {newstr}\")\n",
    "\n"
   ]
  },
  {
   "cell_type": "code",
   "execution_count": 6,
   "metadata": {},
   "outputs": [
    {
     "name": "stdout",
     "output_type": "stream",
     "text": [
      "Enter a String: anushka\n",
      "Your String: anushka\n",
      "Result: Digits: 0, Letters: 7\n"
     ]
    }
   ],
   "source": [
    "mystring = input(\"Enter a String: \")\n",
    "print(\"Your String:\", mystring)\n",
    "\n",
    "Digits = 0\n",
    "Letters = 0\n",
    "\n",
    "for x in mystring:\n",
    "    if x.isalpha():\n",
    "        Letters += 1\n",
    "    \n",
    "    if x.isdigit():\n",
    "        Digits += 1\n",
    "        \n",
    "print(f\"Result: Digits: {Digits}, Letters: {Letters}\")\n",
    "\n",
    "\n"
   ]
  },
  {
   "cell_type": "code",
   "execution_count": 7,
   "metadata": {},
   "outputs": [
    {
     "name": "stdout",
     "output_type": "stream",
     "text": [
      "Enter a String 1: tanuja\n",
      "Your String 1: tanuja\n",
      "Enter a String 2: anushka\n",
      "Your String 2: anushka\n",
      "Result String: aanuja tnushkt\n"
     ]
    }
   ],
   "source": [
    " mystring1 = input(\"Enter a String 1: \")\n",
    "print(\"Your String 1:\", mystring1)\n",
    "\n",
    "mystring2 = input(\"Enter a String 2: \")\n",
    "print(\"Your String 2:\", mystring2)\n",
    "\n",
    "result = mystring1.replace(mystring1[0:1],mystring2[0:1]) + \" \" + mystring2.replace(mystring2[0:1],mystring1[0:1]) \n",
    "\n",
    "print(f\"Result String: {result}\")"
   ]
  },
  {
   "cell_type": "code",
   "execution_count": 8,
   "metadata": {},
   "outputs": [
    {
     "name": "stdout",
     "output_type": "stream",
     "text": [
      "enter string:anujyhf\n",
      "the string is not a palindrome\n",
      "enter string:uythbfrg\n",
      "vowels are not present\n"
     ]
    }
   ],
   "source": [
    "\n",
    "s1=input(\"enter string:\")\n",
    "s2=reversed(s1)\n",
    "if list(s1)==list(s2):\n",
    "    print(\"the string is palindrome\")\n",
    "else:\n",
    "    print(\"the string is not a palindrome\")\n",
    "    \n",
    "    s1=input(\"enter string:\")\n",
    "vowels=['a','e','i','o','u']\n",
    "if list(s1)==list(vowels):\n",
    "    print(\"vowels are present\")\n",
    "else:\n",
    "    print(\"vowels are not present\")"
   ]
  },
  {
   "cell_type": "code",
   "execution_count": 9,
   "metadata": {},
   "outputs": [
    {
     "name": "stdout",
     "output_type": "stream",
     "text": [
      "enter the string:dfggb\n",
      "vowels are not present\n"
     ]
    }
   ],
   "source": [
    "\n",
    "string=input(\"enter the string:\")\n",
    "flag=False\n",
    "for i in string:\n",
    "    if i=='a' or i=='e' or i=='i' or i=='o' or i=='u':\n",
    "        flag=True\n",
    "        break\n",
    "if flag:\n",
    "    print(\"vowels are present\")        \n",
    "else:\n",
    "    print(\"vowels are not present\")"
   ]
  },
  {
   "cell_type": "code",
   "execution_count": null,
   "metadata": {},
   "outputs": [],
   "source": []
  }
 ],
 "metadata": {
  "kernelspec": {
   "display_name": "Python 3",
   "language": "python",
   "name": "python3"
  },
  "language_info": {
   "codemirror_mode": {
    "name": "ipython",
    "version": 3
   },
   "file_extension": ".py",
   "mimetype": "text/x-python",
   "name": "python",
   "nbconvert_exporter": "python",
   "pygments_lexer": "ipython3",
   "version": "3.8.10"
  }
 },
 "nbformat": 4,
 "nbformat_minor": 4
}
