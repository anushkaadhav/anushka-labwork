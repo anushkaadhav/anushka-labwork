{
 "cells": [
  {
   "cell_type": "code",
   "execution_count": 1,
   "metadata": {},
   "outputs": [
    {
     "name": "stdout",
     "output_type": "stream",
     "text": [
      "enter the string:anushka\n",
      "final string: anka\n"
     ]
    }
   ],
   "source": [
    "istring=input(\"enter the string:\")\n",
    "if len(istring)<2:\n",
    "    print(\"empty string\")\n",
    "else:\n",
    "    firsttwo=istring[0]+istring[1]\n",
    "    lasttwo=istring[-2]+istring[-1]\n",
    "    result=firsttwo+lasttwo\n",
    "    print(\"final string:\",result)\n",
    "    "
   ]
  },
  {
   "cell_type": "code",
   "execution_count": 2,
   "metadata": {},
   "outputs": [
    {
     "name": "stdout",
     "output_type": "stream",
     "text": [
      "enter the string:tanuja\n",
      "6\n"
     ]
    }
   ],
   "source": [
    "string=input(\"enter the string:\")\n",
    "count=0\n",
    "for i in string:\n",
    "    count=count+1\n",
    "print(count)"
   ]
  },
  {
   "cell_type": "code",
   "execution_count": 3,
   "metadata": {},
   "outputs": [
    {
     "name": "stdout",
     "output_type": "stream",
     "text": [
      "enter the string:google.com\n",
      "character frequency\n",
      "g:2\n",
      "o:3\n",
      "l:1\n",
      "e:1\n",
      ".:1\n",
      "c:1\n",
      "m:1\n"
     ]
    }
   ],
   "source": [
    "string=input(\"enter the string:\")\n",
    "visitedchar=\"\"\n",
    "print(\"character frequency\")\n",
    "for i in string:\n",
    "    if i not in visitedchar:\n",
    "        count=0;\n",
    "        for j in string:\n",
    "            if i==j:\n",
    "                count=count+1;\n",
    "        print(f\"{i}:{count}\")\n",
    "        visitedchar=visitedchar+i"
   ]
  },
  {
   "cell_type": "code",
   "execution_count": 5,
   "metadata": {},
   "outputs": [
    {
     "name": "stdout",
     "output_type": "stream",
     "text": [
      "enter the string:apple\n",
      "string after replacing occurance of a with $: $pple\n"
     ]
    }
   ],
   "source": [
    "string=input(\"enter the string:\")\n",
    "ostring=string.replace('a','$')\n",
    "print(\"string after replacing occurance of a with $:\",ostring)\n"
   ]
  },
  {
   "cell_type": "code",
   "execution_count": 6,
   "metadata": {},
   "outputs": [
    {
     "name": "stdout",
     "output_type": "stream",
     "text": [
      "['hello', 'world']\n",
      "True\n",
      "True\n"
     ]
    }
   ],
   "source": [
    "text=\"hello world\"\n",
    "print(text.split())\n",
    "print(text.startswith(\"hello\"))\n",
    "print(text.endswith(\"world\"))\n",
    "\n"
   ]
  },
  {
   "cell_type": "code",
   "execution_count": 7,
   "metadata": {},
   "outputs": [
    {
     "name": "stdout",
     "output_type": "stream",
     "text": [
      "HELLO\n",
      "hello\n",
      "Hello\n",
      "He$$o\n",
      "2\n"
     ]
    }
   ],
   "source": [
    "text=\"Hello\"\n",
    "print(text.upper())\n",
    "print(text.lower())\n",
    "print(text.title())\n",
    "print(text.replace(\"l\",\"$\"))\n",
    "print(text.count(\"l\"))\n"
   ]
  },
  {
   "cell_type": "code",
   "execution_count": 8,
   "metadata": {},
   "outputs": [
    {
     "name": "stdout",
     "output_type": "stream",
     "text": [
      "HELLO\n",
      "hello\n",
      "Hello\n",
      "He$$o\n",
      "2\n"
     ]
    }
   ],
   "source": [
    "text=\"Hello\"\n",
    "print(text.upper())\n",
    "print(text.lower())\n",
    "print(text.title())\n",
    "print(text.replace(\"l\",\"$\"))\n",
    "print(text.count(\"l\"))\n"
   ]
  },
  {
   "cell_type": "code",
   "execution_count": 19,
   "metadata": {},
   "outputs": [
    {
     "name": "stdout",
     "output_type": "stream",
     "text": [
      "enter the string:ppl\n",
      "vowels are not present\n"
     ]
    }
   ],
   "source": [
    "string=input(\"enter the string:\")\n",
    "flag=False\n",
    "for i in string:\n",
    "    if i=='a' or i=='e' or i=='i' or i=='o' or i=='u':\n",
    "        flag=True\n",
    "        break\n",
    "if flag:\n",
    "    print(\"vowels are present\")        \n",
    "else:\n",
    "    print(\"vowels are not present\")\n"
   ]
  },
  {
   "cell_type": "code",
   "execution_count": null,
   "metadata": {},
   "outputs": [],
   "source": []
  },
  {
   "cell_type": "code",
   "execution_count": 23,
   "metadata": {},
   "outputs": [
    {
     "name": "stdout",
     "output_type": "stream",
     "text": [
      "enter the string:anushka\n",
      "akhsuna\n",
      "anushka is not a palindrome\n"
     ]
    }
   ],
   "source": [
    "string=input(\"enter the string:\")\n",
    "rev=string[ ::-1]\n",
    "print(rev)\n",
    "if string.lower()==rev.lower():\n",
    "    print(f\"{string} is palindrome\")\n",
    "else:\n",
    "    print(f\"{string} is not a palindrome\")\n"
   ]
  },
  {
   "cell_type": "code",
   "execution_count": 25,
   "metadata": {},
   "outputs": [
    {
     "name": "stdout",
     "output_type": "stream",
     "text": [
      "enter string:anu\n",
      "the string is not a palindrome\n"
     ]
    }
   ],
   "source": [
    "s1=input(\"enter string:\")\n",
    "s2=reversed(s1)\n",
    "if list(s1)==list(s2):\n",
    "    print(\"the string is palindrome\")\n",
    "else:\n",
    "    print(\"the string is not a palindrome\")"
   ]
  },
  {
   "cell_type": "code",
   "execution_count": 26,
   "metadata": {},
   "outputs": [
    {
     "name": "stdout",
     "output_type": "stream",
     "text": [
      "enter string:ppl\n",
      "vowels are not present\n"
     ]
    }
   ],
   "source": [
    "s1=input(\"enter string:\")\n",
    "vowels=['a','e','i','o','u']\n",
    "if list(s1)==list(vowels):\n",
    "    print(\"vowels are present\")\n",
    "else:\n",
    "    print(\"vowels are not present\")"
   ]
  },
  {
   "cell_type": "code",
   "execution_count": 27,
   "metadata": {},
   "outputs": [
    {
     "name": "stdout",
     "output_type": "stream",
     "text": [
      "average of number of list: 30.0\n"
     ]
    }
   ],
   "source": [
    "numlist=[10,20,30,40,50]\n",
    "total=0\n",
    "count=0\n",
    "i=0\n",
    "while i<len(numlist):\n",
    "    total=total+numlist[i]\n",
    "    count=count+1\n",
    "    i=i+1\n",
    "average=total/count\n",
    "print(\"average of number of list:\",average)\n",
    "\n"
   ]
  },
  {
   "cell_type": "code",
   "execution_count": 28,
   "metadata": {},
   "outputs": [
    {
     "name": "stdout",
     "output_type": "stream",
     "text": [
      "enter number:5\n",
      "fibbonacci series:\n",
      "01123"
     ]
    }
   ],
   "source": [
    "n=int(input(\"enter number:\"))\n",
    "a,b=0,1\n",
    "print(\"fibbonacci series:\")\n",
    "for i in range(n):\n",
    "    print(a,end='')\n",
    "    a,b=b,a+b\n",
    "    "
   ]
  },
  {
   "cell_type": "code",
   "execution_count": 29,
   "metadata": {},
   "outputs": [
    {
     "name": "stdout",
     "output_type": "stream",
     "text": [
      "enter 6 integer number:\n",
      "enter integer value1:34\n",
      "enter integer value2:45\n",
      "enter integer value3:66\n",
      "enter integer value4:45\n",
      "enter integer value5:67\n",
      "enter integer value6:78\n",
      "duplicate\n"
     ]
    }
   ],
   "source": [
    " values=[]\n",
    "print(\"enter 6 integer number:\")\n",
    "for i in range(6):\n",
    "    num=int(input(f\"enter integer value{i+1}:\"))\n",
    "    values.append(num)\n",
    "is_duplicate=False\n",
    "for i in values:\n",
    "    count=0;\n",
    "    for j in values:\n",
    "        if(i==j):\n",
    "            count=count+1;\n",
    "    if count>1:\n",
    "        is_duplicate=True\n",
    "        break\n",
    "if is_duplicate:\n",
    "    print(\"duplicate\")\n",
    "else:\n",
    "    print(\"unique\")\n",
    "        \n",
    "        "
   ]
  },
  {
   "cell_type": "code",
   "execution_count": 30,
   "metadata": {},
   "outputs": [
    {
     "name": "stdout",
     "output_type": "stream",
     "text": [
      "enter integer value1:4\n",
      "number is even 4\n",
      "enter integer value2:6\n",
      "number is even 6\n",
      "enter integer value3:7\n",
      "number is odd 7\n",
      "enter integer value4:4\n",
      "number is even 4\n",
      "enter integer value5:3\n",
      "number is odd 3\n",
      "enter integer value6:9\n",
      "number is odd 9\n"
     ]
    }
   ],
   "source": [
    "  for i in range(6):\n",
    "    num=int(input(f\"enter integer value{i+1}:\"))\n",
    "    if num%2==0:\n",
    "        print(\"number is even\",num)\n",
    "    else:\n",
    "        print(\"number is odd\",num)\n",
    "        "
   ]
  },
  {
   "cell_type": "code",
   "execution_count": 31,
   "metadata": {},
   "outputs": [
    {
     "name": "stdout",
     "output_type": "stream",
     "text": [
      "enter a number:20\n",
      "prime number:\n",
      "2\n",
      "3\n",
      "5\n",
      "7\n",
      "11\n",
      "13\n",
      "17\n",
      "19\n"
     ]
    }
   ],
   "source": [
    "num=int(input(\"enter a number:\"))\n",
    "print(\"prime number:\")\n",
    "for i in range(2,num+1):\n",
    "    flag=True\n",
    "    for j in range(2,i):\n",
    "        if i%j==0:\n",
    "            flag=False\n",
    "            break\n",
    "    if flag:\n",
    "        print(i)\n",
    "    "
   ]
  },
  {
   "cell_type": "code",
   "execution_count": 33,
   "metadata": {},
   "outputs": [
    {
     "name": "stdout",
     "output_type": "stream",
     "text": [
      "enter number:35\n",
      "out of range\n"
     ]
    }
   ],
   "source": [
    "n=int(input(\"enter number:\"))\n",
    "found=False\n",
    "for i in range(1,21):\n",
    "    if i==n:\n",
    "        print(\"ok\")\n",
    "        found=True\n",
    "        break\n",
    "if found==False:\n",
    "    print(\"out of range\")\n",
    "    \n",
    "    "
   ]
  },
  {
   "cell_type": "code",
   "execution_count": 34,
   "metadata": {},
   "outputs": [
    {
     "name": "stdout",
     "output_type": "stream",
     "text": [
      "enter number:345\n",
      "543\n"
     ]
    }
   ],
   "source": [
    "n=int(input(\"enter number:\"))\n",
    "rev=0\n",
    "\n",
    "while n>0:\n",
    "    digit=n%10\n",
    "    rev=(rev*10)+digit\n",
    "    n=n//10\n",
    "print(rev)\n",
    "    "
   ]
  },
  {
   "cell_type": "code",
   "execution_count": 35,
   "metadata": {},
   "outputs": [
    {
     "name": "stdout",
     "output_type": "stream",
     "text": [
      "enter number:123\n",
      "sum of digits:6\n"
     ]
    }
   ],
   "source": [
    " n=int(input(\"enter number:\"))\n",
    "sum=0\n",
    "\n",
    "while n!=0:\n",
    "    digit=n%10\n",
    "    sum=sum+digit\n",
    "    n=n//10\n",
    "print(f\"sum of digits:{sum}\")\n"
   ]
  },
  {
   "cell_type": "code",
   "execution_count": 36,
   "metadata": {},
   "outputs": [
    {
     "name": "stdout",
     "output_type": "stream",
     "text": [
      "enter number 1:43\n",
      "enter number 2:56\n",
      "DIFFERENT identity\n"
     ]
    }
   ],
   "source": [
    "n1=int(input(\"enter number 1:\"))\n",
    "n2=int(input(\"enter number 2:\"))\n",
    "if n1==n2:\n",
    "    print(\"SAME identity\")\n",
    "else:\n",
    "    print(\"DIFFERENT identity\")\n",
    "    \n",
    "    "
   ]
  },
  {
   "cell_type": "code",
   "execution_count": 37,
   "metadata": {},
   "outputs": [
    {
     "name": "stdout",
     "output_type": "stream",
     "text": [
      "out of range\n"
     ]
    }
   ],
   "source": [
    "import sys\n",
    "sys.argv=[\"que2\",\"70\"]\n",
    "if len(sys.argv)!=2:\n",
    "    print(\"not valid\")\n",
    "else:\n",
    "    value=int(sys.argv[1])\n",
    "    if 1<=value<=50:\n",
    "        print(\"ok\")\n",
    "    else:\n",
    "        print(\"out of range\")\n",
    "        "
   ]
  },
  {
   "cell_type": "code",
   "execution_count": 38,
   "metadata": {},
   "outputs": [
    {
     "name": "stdout",
     "output_type": "stream",
     "text": [
      "1\t2\t3\t4\t\n",
      "1\t2\t3\t\n",
      "1\t2\t\n",
      "1\t\n"
     ]
    }
   ],
   "source": [
    "rows=4\n",
    "for i in range(rows,0,-1):\n",
    "    for j in range(1,i+1):\n",
    "        print(j,end='\\t')\n",
    "    print()"
   ]
  },
  {
   "cell_type": "code",
   "execution_count": null,
   "metadata": {},
   "outputs": [],
   "source": []
  }
 ],
 "metadata": {
  "kernelspec": {
   "display_name": "Python 3",
   "language": "python",
   "name": "python3"
  },
  "language_info": {
   "codemirror_mode": {
    "name": "ipython",
    "version": 3
   },
   "file_extension": ".py",
   "mimetype": "text/x-python",
   "name": "python",
   "nbconvert_exporter": "python",
   "pygments_lexer": "ipython3",
   "version": "3.8.10"
  }
 },
 "nbformat": 4,
 "nbformat_minor": 4
}
