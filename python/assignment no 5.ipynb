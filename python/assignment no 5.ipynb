{
 "cells": [
  {
   "cell_type": "code",
   "execution_count": 2,
   "metadata": {},
   "outputs": [
    {
     "name": "stdout",
     "output_type": "stream",
     "text": [
      "20\n",
      "value of key['two']:20\n"
     ]
    }
   ],
   "source": [
    "my_dict={'one':10,'two':20,'three':30,'four':40}\n",
    "value=my_dict['two']\n",
    "print(value)\n",
    "print(f\"value of key['two']:{value}\")"
   ]
  },
  {
   "cell_type": "code",
   "execution_count": 3,
   "metadata": {},
   "outputs": [
    {
     "name": "stdout",
     "output_type": "stream",
     "text": [
      "{1: 10, 2: 20, 3: 30, 4: 40, 5: 50, 6: 60}\n"
     ]
    }
   ],
   "source": [
    "dict1={1:10,2:20}\n",
    "dict2={3:30,4:40}\n",
    "dict3={5:50,6:60}\n",
    "result_dict=dict1.copy()\n",
    "result_dict.update(dict2)\n",
    "result_dict.update(dict3)\n",
    "print(result_dict)\n"
   ]
  },
  {
   "cell_type": "code",
   "execution_count": 9,
   "metadata": {},
   "outputs": [
    {
     "name": "stdout",
     "output_type": "stream",
     "text": [
      "1:10\n",
      "2:20\n",
      "3:30\n",
      "4:40\n",
      "5:50\n",
      "6:60\n"
     ]
    }
   ],
   "source": [
    "my_dict={1:10,2:20,3:30,4:40,5:50,6:60}\n",
    "for key,value in my_dict.items():\n",
    "    print(f\"{key}:{value}\")"
   ]
  },
  {
   "cell_type": "code",
   "execution_count": 8,
   "metadata": {},
   "outputs": [
    {
     "name": "stdout",
     "output_type": "stream",
     "text": [
      "1: 10\n",
      "2: 20\n",
      "3: 30\n",
      "4: 40\n",
      "5: 50\n",
      "6: 60\n"
     ]
    }
   ],
   "source": [
    "my_dict = {1: 10, 2: 20, 3: 30, 4: 40, 5: 50, 6: 60}\n",
    "for key, value in my_dict.items():\n",
    "    print(f\"{key}: {value}\")\n"
   ]
  },
  {
   "cell_type": "code",
   "execution_count": 11,
   "metadata": {},
   "outputs": [
    {
     "name": "stdout",
     "output_type": "stream",
     "text": [
      "401\n"
     ]
    }
   ],
   "source": [
    "my_dict={'data1':100,'data2':54,'data3':247}\n",
    "total=sum(my_dict.values())\n",
    "print(total)"
   ]
  },
  {
   "cell_type": "code",
   "execution_count": 1,
   "metadata": {},
   "outputs": [
    {
     "name": "stdout",
     "output_type": "stream",
     "text": [
      "{'b': 2, 'c': 3, 'd': 4}\n"
     ]
    }
   ],
   "source": [
    "my_dict={'a':1,'b':2,'c':3,'d':4}\n",
    "my_dict.pop('a')\n",
    "print(my_dict)\n"
   ]
  },
  {
   "cell_type": "code",
   "execution_count": 8,
   "metadata": {},
   "outputs": [
    {
     "name": "stdout",
     "output_type": "stream",
     "text": [
      "black:#000000\n",
      "green:#008000\n",
      "red:#FF0000\n",
      "white:#FFFFFF\n"
     ]
    }
   ],
   "source": [
    "color_dict={'red':'#FF0000','green':'#008000','black':'#000000','white':'#FFFFFF'}\n",
    "for key in sorted(color_dict):\n",
    "    print(f'{key}:{color_dict[key]}')"
   ]
  },
  {
   "cell_type": "code",
   "execution_count": 7,
   "metadata": {},
   "outputs": [
    {
     "name": "stdout",
     "output_type": "stream",
     "text": [
      "black: #000000\n",
      "green: #008000\n",
      "red: #FF0000\n",
      "white: #FFFFFF\n"
     ]
    }
   ],
   "source": [
    "color_dict = {'red': '#FF0000', 'green': '#008000', 'black': '#000000', 'white': '#FFFFFF'}\n",
    "for key in sorted(color_dict):\n",
    "    print(f'{key}: {color_dict[key]}')\n"
   ]
  },
  {
   "cell_type": "code",
   "execution_count": 12,
   "metadata": {},
   "outputs": [
    {
     "name": "stdout",
     "output_type": "stream",
     "text": [
      "{'d': 400, 'a': 400, 'c': 300, 'b': 400}\n"
     ]
    }
   ],
   "source": [
    "d1 = {'a': 100, 'b': 200, 'c': 300}\n",
    "d2 = {'a': 300, 'b': 200, 'd': 400}\n",
    "d3 = {}\n",
    "\n",
    "for key in d1.keys() | d2.keys():\n",
    "    d3[key] = d1.get(key, 0) + d2.get(key, 0)\n",
    "print(d3)\n"
   ]
  },
  {
   "cell_type": "code",
   "execution_count": 17,
   "metadata": {},
   "outputs": [
    {
     "name": "stdout",
     "output_type": "stream",
     "text": [
      "{1: 1}\n",
      "{2: 4}\n",
      "{3: 9}\n",
      "{4: 16}\n",
      "{5: 25}\n"
     ]
    }
   ],
   "source": [
    "n=5\n",
    "for x in range(1,n+1):\n",
    "    s_dict={x:x*x}\n",
    "    print(s_dict)\n",
    "    "
   ]
  },
  {
   "cell_type": "code",
   "execution_count": 16,
   "metadata": {},
   "outputs": [
    {
     "name": "stdout",
     "output_type": "stream",
     "text": [
      "{1: 1, 2: 4, 3: 9, 4: 16, 5: 25}\n"
     ]
    }
   ],
   "source": [
    "n=5\n",
    "s_dict={x:x*x for x in range(1,n+1)}\n",
    "print(s_dict)"
   ]
  },
  {
   "cell_type": "code",
   "execution_count": 19,
   "metadata": {},
   "outputs": [
    {
     "name": "stdout",
     "output_type": "stream",
     "text": [
      "{'W': 1, '3': 1, 'r': 2, 'e': 2, 's': 1, 'o': 1, 'u': 1, 'c': 1}\n"
     ]
    }
   ],
   "source": [
    "string='W3resource'\n",
    "d1={}\n",
    "for char in string:\n",
    "    d1[char]=d1.get(char,0)+1\n",
    "print(d1)"
   ]
  },
  {
   "cell_type": "code",
   "execution_count": 25,
   "metadata": {},
   "outputs": [
    {
     "name": "stdout",
     "output_type": "stream",
     "text": [
      "{'class-V': {1}, 'class-VI': {2}, 'class-VII': {2}, 'class-VIII': {3}}\n"
     ]
    }
   ],
   "source": [
    "from collections import defaultdict\n",
    "\n",
    "l1 = ['class-V', 'class-VI', 'class-VII', 'class-VIII']\n",
    "l2 = [1, 2, 2, 3]\n",
    "result = defaultdict(set)\n",
    "\n",
    "\n",
    "for key, value in zip(l1, l2):\n",
    "    result[key].add(value)\n",
    "\n",
    "\n",
    "print(dict(result))\n",
    "\n"
   ]
  },
  {
   "cell_type": "code",
   "execution_count": 24,
   "metadata": {},
   "outputs": [
    {
     "name": "stdout",
     "output_type": "stream",
     "text": [
      "{'class-V': {1}, 'class-VI': {2}, 'class-VII': {2}, 'class-VIII': {3}}\n"
     ]
    }
   ],
   "source": [
    "from collections import defaultdict\n",
    "\n",
    "l1 = ['class-V', 'class-VI', 'class-VII', 'class-VIII']\n",
    "l2 = [1, 2, 2, 3]\n",
    "result = defaultdict(set)\n",
    "\n",
    "\n",
    "for key, value in zip(l1, l2):\n",
    "    result[key].add(value)\n",
    "\n",
    "\n",
    "print(dict(result))\n"
   ]
  },
  {
   "cell_type": "code",
   "execution_count": 28,
   "metadata": {},
   "outputs": [
    {
     "name": "stdout",
     "output_type": "stream",
     "text": [
      "{'x': [11, 12, 13, 14, 15, 16, 17, 18, 19], 'y': [21, 22, 23, 24, 25, 26, 27, 28, 29], 'z': [31, 32, 33, 34, 35, 36, 37, 38, 39]}\n",
      "15\n",
      "25\n",
      "35\n"
     ]
    }
   ],
   "source": [
    "d1={'x':list(range(11,20)),\n",
    "    'y':list(range(21,30)),\n",
    "    'z':list(range(31,40))}\n",
    "print(d1)\n",
    "print(d1['x'][4])\n",
    "print(d1['y'][4])\n",
    "print(d1['z'][4])"
   ]
  },
  {
   "cell_type": "code",
   "execution_count": null,
   "metadata": {},
   "outputs": [],
   "source": []
  }
 ],
 "metadata": {
  "kernelspec": {
   "display_name": "Python 3",
   "language": "python",
   "name": "python3"
  },
  "language_info": {
   "codemirror_mode": {
    "name": "ipython",
    "version": 3
   },
   "file_extension": ".py",
   "mimetype": "text/x-python",
   "name": "python",
   "nbconvert_exporter": "python",
   "pygments_lexer": "ipython3",
   "version": "3.8.10"
  }
 },
 "nbformat": 4,
 "nbformat_minor": 4
}
