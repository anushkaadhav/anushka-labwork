{
 "cells": [
  {
   "cell_type": "code",
   "execution_count": 4,
   "metadata": {},
   "outputs": [
    {
     "name": "stdout",
     "output_type": "stream",
     "text": [
      "enter a number:20\n",
      "prime number:\n",
      "2\n",
      "3\n",
      "5\n",
      "7\n",
      "11\n",
      "13\n",
      "17\n",
      "19\n"
     ]
    }
   ],
   "source": [
    "num=int(input(\"enter a number:\"))\n",
    "print(\"prime number:\")\n",
    "for i in range(2,num+1):\n",
    "    flag=True\n",
    "    for j in range(2,i):\n",
    "        if i%j==0:\n",
    "            flag=False\n",
    "            break\n",
    "    if flag:\n",
    "        print(i)\n",
    "    "
   ]
  },
  {
   "cell_type": "code",
   "execution_count": 21,
   "metadata": {},
   "outputs": [
    {
     "name": "stdout",
     "output_type": "stream",
     "text": [
      "enter number:12\n",
      "ok\n"
     ]
    }
   ],
   "source": [
    "n=int(input(\"enter number:\"))\n",
    "found=False\n",
    "for i in range(1,21):\n",
    "    if i==n:\n",
    "        print(\"ok\")\n",
    "        found=True\n",
    "        break\n",
    "if found==False:\n",
    "    print(\"out of range\")"
   ]
  },
  {
   "cell_type": "code",
   "execution_count": 13,
   "metadata": {},
   "outputs": [
    {
     "name": "stdout",
     "output_type": "stream",
     "text": [
      "enter number:456\n",
      "654\n"
     ]
    }
   ],
   "source": [
    "n=int(input(\"enter number:\"))\n",
    "rev=0\n",
    "\n",
    "while n>0:\n",
    "    digit=n%10\n",
    "    rev=(rev*10)+digit\n",
    "    n=n//10\n",
    "print(rev)\n",
    "    "
   ]
  },
  {
   "cell_type": "code",
   "execution_count": 14,
   "metadata": {},
   "outputs": [
    {
     "name": "stdout",
     "output_type": "stream",
     "text": [
      "enter number:342\n",
      "sum of digits:9\n"
     ]
    }
   ],
   "source": [
    "n=int(input(\"enter number:\"))\n",
    "sum=0\n",
    "\n",
    "while n!=0:\n",
    "    digit=n%10\n",
    "    sum=sum+digit\n",
    "    n=n//10\n",
    "    \n",
    "print(f\"sum of digits:{sum}\")"
   ]
  },
  {
   "cell_type": "code",
   "execution_count": 15,
   "metadata": {},
   "outputs": [
    {
     "name": "stdout",
     "output_type": "stream",
     "text": [
      "enter integer value1:23\n",
      "number is odd 23\n",
      "enter integer value2:24\n",
      "number is even 24\n",
      "enter integer value3:45\n",
      "number is odd 45\n",
      "enter integer value4:32\n",
      "number is even 32\n",
      "enter integer value5:11\n",
      "number is odd 11\n",
      "enter integer value6:56\n",
      "number is even 56\n"
     ]
    }
   ],
   "source": [
    " for i in range(6):\n",
    "    num=int(input(f\"enter integer value{i+1}:\"))\n",
    "    if num%2==0:\n",
    "        print(\"number is even\",num)\n",
    "    else:\n",
    "        print(\"number is odd\",num)\n",
    "        "
   ]
  },
  {
   "cell_type": "code",
   "execution_count": 16,
   "metadata": {},
   "outputs": [
    {
     "name": "stdout",
     "output_type": "stream",
     "text": [
      "average of number of list: 30.0\n"
     ]
    }
   ],
   "source": [
    " numlist=[10,20,30,40,50]\n",
    "total=0\n",
    "count=0\n",
    "\n",
    "for number in numlist:\n",
    "    total=total+number\n",
    "    count=count+1\n",
    "    i=i+1\n",
    "average=total/count\n",
    "print(\"average of number of list:\",average)\n"
   ]
  },
  {
   "cell_type": "code",
   "execution_count": 17,
   "metadata": {},
   "outputs": [
    {
     "name": "stdout",
     "output_type": "stream",
     "text": [
      "average of number of list: 30.0\n"
     ]
    }
   ],
   "source": [
    "numlist=[10,20,30,40,50]\n",
    "total=0\n",
    "count=0\n",
    "i=0\n",
    "while i<len(numlist):\n",
    "    total=total+numlist[i]\n",
    "    count=count+1\n",
    "    i=i+1\n",
    "average=total/count\n",
    "print(\"average of number of list:\",average)\n",
    "\n"
   ]
  },
  {
   "cell_type": "code",
   "execution_count": 18,
   "metadata": {},
   "outputs": [
    {
     "name": "stdout",
     "output_type": "stream",
     "text": [
      "enter number:6\n",
      "fibbonacci series:\n",
      "011235"
     ]
    }
   ],
   "source": [
    "n=int(input(\"enter number:\"))\n",
    "a,b=0,1\n",
    "print(\"fibbonacci series:\")\n",
    "for i in range(n):\n",
    "    print(a,end='')\n",
    "    a,b=b,a+b\n",
    "    "
   ]
  },
  {
   "cell_type": "code",
   "execution_count": 19,
   "metadata": {},
   "outputs": [
    {
     "name": "stdout",
     "output_type": "stream",
     "text": [
      "enter 6 integer number:\n",
      "enter integer value1:12\n",
      "enter integer value2:23\n",
      "enter integer value3:23\n",
      "enter integer value4:23\n",
      "enter integer value5:12\n",
      "enter integer value6:45\n",
      "duplicate\n"
     ]
    }
   ],
   "source": [
    "  values=[]\n",
    "print(\"enter 6 integer number:\")\n",
    "for i in range(6):\n",
    "    num=int(input(f\"enter integer value{i+1}:\"))\n",
    "    values.append(num)\n",
    "is_duplicate=False\n",
    "for i in values:\n",
    "    count=0;\n",
    "    for j in values:\n",
    "        if(i==j):\n",
    "            count=count+1;\n",
    "    if count>1:\n",
    "        is_duplicate=True\n",
    "        break\n",
    "if is_duplicate:\n",
    "    print(\"duplicate\")\n",
    "else:\n",
    "    print(\"unique\")\n",
    "        "
   ]
  },
  {
   "cell_type": "code",
   "execution_count": 22,
   "metadata": {},
   "outputs": [
    {
     "name": "stdout",
     "output_type": "stream",
     "text": [
      "enter number 1:23\n",
      "enter number 2:34\n",
      "DIFFERENT identity\n"
     ]
    }
   ],
   "source": [
    "n1=int(input(\"enter number 1:\"))\n",
    "n2=int(input(\"enter number 2:\"))\n",
    "if n1==n2:\n",
    "    print(\"SAME identity\")\n",
    "else:\n",
    "    print(\"DIFFERENT identity\")"
   ]
  },
  {
   "cell_type": "code",
   "execution_count": null,
   "metadata": {},
   "outputs": [],
   "source": []
  }
 ],
 "metadata": {
  "kernelspec": {
   "display_name": "Python 3",
   "language": "python",
   "name": "python3"
  },
  "language_info": {
   "codemirror_mode": {
    "name": "ipython",
    "version": 3
   },
   "file_extension": ".py",
   "mimetype": "text/x-python",
   "name": "python",
   "nbconvert_exporter": "python",
   "pygments_lexer": "ipython3",
   "version": "3.8.10"
  }
 },
 "nbformat": 4,
 "nbformat_minor": 4
}
